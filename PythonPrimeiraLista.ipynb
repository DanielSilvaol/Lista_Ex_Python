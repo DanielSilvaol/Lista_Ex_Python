{
 "cells": [
  {
   "cell_type": "markdown",
   "metadata": {},
   "source": [
    "1 - Faça um Progama que peça o raio de um círculo, calcule e mostre a sua área."
   ]
  },
  {
   "cell_type": "code",
   "execution_count": 7,
   "metadata": {},
   "outputs": [
    {
     "name": "stdout",
     "output_type": "stream",
     "text": [
      "Digite o valor do raio5\n",
      "A área do círculo de raio 5 é       78.5\n"
     ]
    }
   ],
   "source": [
    "import math\n",
    "raio = int( input(\"Digite o valor do raio\"))\n",
    "#type(raio)\n",
    "area = math.pi *(raio ** 2)\n",
    "print (f\"A área do círculo de raio {raio} é {area: {10}.{3}}\")"
   ]
  },
  {
   "cell_type": "markdown",
   "metadata": {},
   "source": [
    "2 - Faça um Programa que calcule a área de um quadrado, em seguida mostre o dobro desta área para o usuário."
   ]
  },
  {
   "cell_type": "code",
   "execution_count": 2,
   "metadata": {},
   "outputs": [
    {
     "name": "stdout",
     "output_type": "stream",
     "text": [
      "Digite o valor horizontal: 10\n",
      "Digite o valor vertical: 10\n",
      "O valor da area relacionado a horizontal 10 e a verticao 10\n",
      "O valor da area é: 200\n"
     ]
    }
   ],
   "source": [
    "height = int(input(\"Digite o valor horizontal: \"))\n",
    "width = int(input(\"Digite o valor vertical: \"))\n",
    "resultado = (height * width)*2\n",
    "print(\"O valor da area relacionado a horizontal {} e a verticao {}\\nO valor da area é: {}\".format(height,width,resultado))"
   ]
  },
  {
   "cell_type": "markdown",
   "metadata": {},
   "source": [
    "3 - Faça um Programa que pergunte quanto você ganha por hora e o número de horas trabalhadas no mês. \n",
    "Calcule e mostre o total do seu salário no referido mês."
   ]
  },
  {
   "cell_type": "code",
   "execution_count": 12,
   "metadata": {},
   "outputs": [
    {
     "name": "stdout",
     "output_type": "stream",
     "text": [
      "Digite o quanto você ganha por hora: 50\n",
      "Digite o quantas horas foram trabalhadas: 100\n",
      "Com o valor de horas:50.0\n",
      "e trabalhado 100.0 horas \n",
      "Você recebe por mês: 5000.0\n"
     ]
    }
   ],
   "source": [
    "valor_hora = float(input(\"Digite o quanto você ganha por hora: \"))\n",
    "numero_horas = float(input(\"Digite o quantas horas foram trabalhadas: \"))\n",
    "result = valor_hora * numero_horas;\n",
    "\n",
    "print(f\"Com o valor de horas:{valor_hora}\\ne trabalhado {numero_horas} horas \\nVocê recebe por mês: {result}\")"
   ]
  },
  {
   "cell_type": "markdown",
   "metadata": {},
   "source": [
    "4 - Faça um Programa que peça a temperatura em graus Farenheit, transforme e mostre a temperatura em graus Celsius. \n",
    "C = (5 * (F-32) / 9)."
   ]
  },
  {
   "cell_type": "code",
   "execution_count": 7,
   "metadata": {},
   "outputs": [
    {
     "name": "stdout",
     "output_type": "stream",
     "text": [
      "Digite o valor da temperatuda em Farenheit: 75\n",
      "A temperatuda em Celsius é:  23.9\n"
     ]
    }
   ],
   "source": [
    "temperatura_farenheit = int(input(\"Digite o valor da temperatuda em Farenheit: \"))\n",
    "Celsius = (5 *(temperatura_farenheit-32)/9)\n",
    "print(f\"A temperatuda em Celsius é: {Celsius: {0}.{3}}\")"
   ]
  },
  {
   "cell_type": "markdown",
   "metadata": {},
   "source": [
    "5 - Faça um Programa que peça a temperatura em graus Celsius, transforme e mostre em graus Farenheit."
   ]
  },
  {
   "cell_type": "code",
   "execution_count": 9,
   "metadata": {},
   "outputs": [
    {
     "name": "stdout",
     "output_type": "stream",
     "text": [
      "Digite o valor da temperatura em Celsius: 23.9\n",
      "A temperatura em farenheit é:  75.0\n"
     ]
    }
   ],
   "source": [
    "temperatura_celsius = float(input(\"Digite o valor da temperatura em Celsius: \"))\n",
    "farenheit = (temperatura_celsius*1.8+32)\n",
    "print(f\"A temperatura em farenheit é: {farenheit: {0}.{3}}\")"
   ]
  },
  {
   "cell_type": "markdown",
   "metadata": {},
   "source": [
    "6 - Faça um Programa que peça 2 números inteiros e um número real. Calcule e mostre: \n",
    "  - o produto do dobro do primeiro com metade do segundo . \n",
    "  - a soma do triplo do primeiro com o terceiro. \n",
    "  - o terceiro elevado ao cubo."
   ]
  },
  {
   "cell_type": "code",
   "execution_count": 15,
   "metadata": {},
   "outputs": [
    {
     "name": "stdout",
     "output_type": "stream",
     "text": [
      "Digite o valor da primeira variaveis em inteiro: 1\n",
      "Digite o valor da segunda variaveis em inteiro: 1\n",
      "Digite o valor da terceira variavel em decimal: 1\n",
      "\n",
      "O valor do produto do dobro do primeiro com metade do segundo:  1.0\n",
      "O valor da soma do triplo do primeiro com o terceiro:  4.0\n",
      "O valor do terceiro elevado ao cubo é:  1.0\n"
     ]
    }
   ],
   "source": [
    "a = int(input(\"Digite o valor da primeira variaveis em inteiro: \"))\n",
    "b = int(input(\"Digite o valor da segunda variaveis em inteiro: \"))\n",
    "c = float(input(\"Digite o valor da terceira variavel em decimal: \"))\n",
    "primeiro_valor = (a*2)*(b/2)\n",
    "segundo_valor = a*3+c\n",
    "terceiro_valor = c**3\n",
    "print(f\"\\nO valor do produto do dobro do primeiro com metade do segundo: {primeiro_valor: {0}.{2}}\")\n",
    "print(f\"O valor da soma do triplo do primeiro com o terceiro: {segundo_valor: {0}.{2}}\")\n",
    "print(f\"O valor do terceiro elevado ao cubo é: {terceiro_valor: {0}{2}}\")"
   ]
  },
  {
   "cell_type": "markdown",
   "metadata": {},
   "source": [
    "7 - João Papo-de-Pescador, homem de bem, comprou um microcomputador para controlar o rendimento diário de seu trabalho. \n",
    "Toda vez que ele traz um peso de peixes maior que o estabelecido pelo regulamento de pesca do estado de São Paulo \n",
    "(50 quilos) deve pagar uma multa de R$ 4,00 por quilo excedente. \n",
    "João precisa que você faça um programa que leia a variável peso (peso de peixes) e verifique se há excesso. \n",
    "Se houver, gravar na variável excesso e na variável multa o valor da multa que João deverá pagar. \n",
    "Caso contrário mostrar tais variáveis com o conteúdo ZERO."
   ]
  },
  {
   "cell_type": "code",
   "execution_count": 15,
   "metadata": {},
   "outputs": [
    {
     "name": "stdout",
     "output_type": "stream",
     "text": [
      "Digite o peso de peixes: 55\n",
      "Excesso: 5.0, Multa: 20.0\n"
     ]
    }
   ],
   "source": [
    "peso_peixes = float(input(\"Digite o peso de peixes: \"))\n",
    "excesso = 0\n",
    "multa = 0\n",
    "if peso_peixes > 50:\n",
    "    excesso = peso_peixes - 50\n",
    "    multa = 4 * excesso\n",
    "print(\"Excesso: {}, Multa: {}\".format(excesso,multa))\n"
   ]
  },
  {
   "cell_type": "markdown",
   "metadata": {},
   "source": [
    "8 - Faça um Programa que pergunte quanto você ganha por hora e o número de horas trabalhadas no mês. \n",
    "Calcule e mostre o total do seu salário no referido mês, sabendo-se que são descontados \n",
    "11% para o Imposto de Renda, \n",
    "8% para o INSS e \n",
    "5% para o sindicato, faça um programa que nos dê: \n",
    "    - salário bruto. \n",
    "    - quanto pagou ao INSS. \n",
    "    - quanto pagou ao sindicato. \n",
    "    - o salário líquido. \n",
    "    - calcule os descontos e o salário líquido, conforme a tabela abaixo:           \n",
    "    \n",
    "    + Salário Bruto : R$           \n",
    "    - IR (11%) : R$           \n",
    "    - INSS (8%) : R$           \n",
    "    - Sindicato ( 5%) : R$           \n",
    "    = Salário Liquido : R$ Obs.: Salário Bruto - Descontos = Salário Líquido."
   ]
  },
  {
   "cell_type": "code",
   "execution_count": 29,
   "metadata": {},
   "outputs": [
    {
     "name": "stdout",
     "output_type": "stream",
     "text": [
      "Digite o valor ganhado por hora: 10\n",
      "Digite a quantidade de horas trabalhadas no mês: 10\n",
      "Salário Bruto : R$ 100\n",
      "IR (11%) : R$ 11.0\n",
      "INSS (8%) : R$ 8.0\n",
      "Sindicato ( 5%) : R$ 5.0\n",
      "Salário Liquido : R$ 76.0 Obs.: Salário Bruto - Descontos = Salário Líquido.\n"
     ]
    }
   ],
   "source": [
    "valor_hora = int(input(\"Digite o valor ganhado por hora: \"))\n",
    "numero_horas = int(input(\"Digite a quantidade de horas trabalhadas no mês: \"))\n",
    "salario_bruto  = valor_hora * numero_horas\n",
    "imposto_renda = salario_bruto * 0.11\n",
    "imposto_inss = salario_bruto * 0.08\n",
    "imposto_sindicato = salario_bruto * 0.05\n",
    "total_impostos = imposto_renda + imposto_inss + imposto_sindicato\n",
    "salario_liquido = salario_bruto - total_impostos\n",
    "print(f\"Salário Bruto : R$ {salario_bruto}\\nIR (11%) : R$ {imposto_renda}\\nINSS (8%) : R$ {imposto_inss}\\nSindicato ( 5%) : R$ {imposto_sindicato}\\nSalário Liquido : R$ {salario_liquido} Obs.: Salário Bruto - Descontos = Salário Líquido.\")"
   ]
  },
  {
   "cell_type": "markdown",
   "metadata": {},
   "source": [
    "9 - Faça um programa que leia 2 strings e informe o conteúdo delas seguido do seu comprimento. \n",
    "Informe também se as duas strings possuem o mesmo comprimento e são iguais ou diferentes no conteúdo. \n",
    "Exemplo: \n",
    "\n",
    "    String 1: Brasil Hexa 2018 \n",
    "    String 2: Brasil! Hexa 2018! \n",
    "    Tamanho de \"Brasil Hexa 2018\": 16 caracteres \n",
    "    Tamanho de \"Brasil! Hexa 2018!\": 18 caracteres \n",
    "    As duas strings são de tamanhos diferentes. \n",
    "    As duas strings possuem conteúdo diferente.\n"
   ]
  },
  {
   "cell_type": "code",
   "execution_count": 1,
   "metadata": {},
   "outputs": [
    {
     "name": "stdout",
     "output_type": "stream",
     "text": [
      "Digite o valor da primeira frase: Daniel Oliveira\n",
      "Digite o valor da segunda frase: Shalom Fernando\n",
      "Tamanho de Daniel Oliveira: 15 caracteres\n",
      "Tamanho de Shalom Fernando: 15 caracteres\n"
     ]
    }
   ],
   "source": [
    "a = input(\"Digite o valor da primeira frase: \")\n",
    "b = input(\"Digite o valor da segunda frase: \")\n",
    "a_t = len(a)\n",
    "b_t = len(b)\n",
    "print(f\"Tamanho de {a}: {a_t} caracteres\\nTamanho de {b}: {b_t} caracteres\")"
   ]
  },
  {
   "cell_type": "markdown",
   "metadata": {},
   "source": [
    "10 - Faça um programa que permita ao usuário digitar o seu nome\n",
    "     e em seguida mostre o nome do usuário de trás para frente utilizando somente letras maiúsculas. \n",
    "     Dica: lembre−se que ao informar o nome o usuário pode digitar letras maiúsculas ou minúsculas. \n",
    "     Observação: não use loops."
   ]
  },
  {
   "cell_type": "code",
   "execution_count": 50,
   "metadata": {},
   "outputs": [
    {
     "name": "stdout",
     "output_type": "stream",
     "text": [
      "Digite o seu nome: Daniel Oliveira da Silva\n",
      "AVLIS AD ARIEVILO LEINAD\n"
     ]
    }
   ],
   "source": [
    "nome = input(\"Digite o seu nome: \")\n",
    "nome_inverso = nome[::-1].upper()\n",
    "print(nome_inverso)"
   ]
  },
  {
   "cell_type": "markdown",
   "metadata": {},
   "source": [
    "11 - Faça um programa que solicite a data de nascimento (dd/mm/aaaa) do usuário e imprima a data com o nome do mês por extenso. Data de Nascimento: 29/10/1973 Você nasceu em  29 de Outubro de 1973. Obs.: Não use desvio condicional nem loops."
   ]
  },
  {
   "cell_type": "code",
   "execution_count": 59,
   "metadata": {},
   "outputs": [
    {
     "name": "stdout",
     "output_type": "stream",
     "text": [
      "Digite sua data de aniversario: \n",
      "Obs.conforme exemplo: 26/03/199926/03/2019\n",
      "Data de Nascimento: 26/03/2019\n",
      "Você nasceu em  26, Março, 2019\n"
     ]
    }
   ],
   "source": [
    "mes = [\"Janeiro\",\"Fevereiro\",\"Março\",\"Abril\",\"Maio\",\"Junho\",\"Julho\",\"Agosto\",\"Setembro\",\"Outubro\",\"Novembro\",\"Dezembro\"]\n",
    "aniversario = input(\"Digite sua data de aniversario: \\nObs.conforme exemplo: 26/03/1999\")\n",
    "dia,mes_aniver,ano = aniversario.split(\"/\")\n",
    "print(f\"Data de Nascimento: {aniversario}\\nVocê nasceu em  {dia}, {mes[int(mes_aniver)-1]}, {ano}\")"
   ]
  },
  {
   "cell_type": "markdown",
   "metadata": {},
   "source": [
    "12 - Leet é uma forma de se escrever o alfabeto latino usando outros símbolos em lugar das letras, como números por exemplo. A própria palavra leet admite muitas variações, como l33t ou 1337. O uso do leet reflete uma subcultura relacionada ao mundo dos jogos de computador e internet, sendo muito usada para confundir os iniciantes e afirmar-se como parte de um grupo. Pesquise sobre as principais formas de traduzir as letras. Depois, faça um programa que peça uma texto e transforme-o para a grafia leet speak. Desafio: não use loops nem desvios condicionais."
   ]
  },
  {
   "cell_type": "code",
   "execution_count": 47,
   "metadata": {},
   "outputs": [
    {
     "ename": "TypeError",
     "evalue": "replace() argument 1 must be str, not tuple",
     "output_type": "error",
     "traceback": [
      "\u001b[1;31m---------------------------------------------------------------------------\u001b[0m",
      "\u001b[1;31mTypeError\u001b[0m                                 Traceback (most recent call last)",
      "\u001b[1;32m<ipython-input-47-a1471c46625c>\u001b[0m in \u001b[0;36m<module>\u001b[1;34m\u001b[0m\n\u001b[0;32m      4\u001b[0m \u001b[0mkeyspace\u001b[0m  \u001b[1;33m=\u001b[0m \u001b[1;34m\"a\"\u001b[0m\u001b[1;33m,\u001b[0m\u001b[1;34m\"b\"\u001b[0m\u001b[1;33m,\u001b[0m\u001b[1;34m\"c\"\u001b[0m\u001b[1;33m\u001b[0m\u001b[1;33m\u001b[0m\u001b[0m\n\u001b[0;32m      5\u001b[0m \u001b[0mteste\u001b[0m \u001b[1;33m=\u001b[0m \u001b[1;34m\"Daniel\"\u001b[0m\u001b[1;33m\u001b[0m\u001b[1;33m\u001b[0m\u001b[0m\n\u001b[1;32m----> 6\u001b[1;33m \u001b[0mprint\u001b[0m\u001b[1;33m(\u001b[0m\u001b[0mteste\u001b[0m\u001b[1;33m.\u001b[0m\u001b[0mreplace\u001b[0m\u001b[1;33m(\u001b[0m\u001b[0mkeyspace\u001b[0m\u001b[1;33m,\u001b[0m\u001b[0morigspace\u001b[0m\u001b[1;33m)\u001b[0m\u001b[1;33m)\u001b[0m\u001b[1;33m\u001b[0m\u001b[1;33m\u001b[0m\u001b[0m\n\u001b[0m",
      "\u001b[1;31mTypeError\u001b[0m: replace() argument 1 must be str, not tuple"
     ]
    }
   ],
   "source": []
  }
 ],
 "metadata": {
  "kernelspec": {
   "display_name": "Python 3",
   "language": "python",
   "name": "python3"
  },
  "language_info": {
   "codemirror_mode": {
    "name": "ipython",
    "version": 3
   },
   "file_extension": ".py",
   "mimetype": "text/x-python",
   "name": "python",
   "nbconvert_exporter": "python",
   "pygments_lexer": "ipython3",
   "version": "3.7.1"
  }
 },
 "nbformat": 4,
 "nbformat_minor": 2
}

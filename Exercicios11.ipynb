{
  "cells": [
    {
      "cell_type": "markdown",
      "source": "1. Faça a seguinte simulação com dois geradores.\n\nO primeiro gerador representa um atendente de restaurante. Ele devolve, logo no\ninício, uma lista com os produtos que o restaurante oferece. Crie uma lista com cinco\ntipos de lanches e dois tipos de bebidas. Cada produto deve ter seu preço.\n\nO segundo gerador é um cliente que está ligando para o restaurante. Após receber a\nlista de produtos disponíveis, o cliente escolhe um deles aleatoriamente.\nApós a primeira escolha do cliente, o atendente informa qual o seu gasto atual e\nmostra o menu novamente.\n\nO cliente, por sua vez, escolhe um outro produto ou então envia a mensagem\n“Tchau”, indicando que não irá comprar mais nada.\nAo receber a mensagem “Tchau”, o atendente deve dizer qual o total gasto pelo\ncliente.",
      "metadata": {
        "pycharm": {
          "metadata": false
        }
      }
    },
    {
      "cell_type": "code",
      "execution_count": 20,
      "outputs": [
        {
          "name": "stdout",
          "text": [
            "MENU:\nAtendende:X-TUDO\nAtendende:X-Salada\nAtendende:X-BURGUER\nAtendende:Guarana\nAtendende:Coco-cola\nAtendende:X-Bacon\nAtendende:X-LANCHE\n \nCliente: X-Bacon\n \nAtendente:Seu lanche é: X-Bacon e o preço é: 20\n \nMENU:\nAtendende:X-TUDO\nAtendende:X-Salada\nAtendende:X-BURGUER\nAtendende:Guarana\nAtendende:Coco-cola\nAtendende:X-Bacon\nAtendende:X-LANCHE\n \nCliente: X-Salada\n \nAtendente:Seu lanche é: X-Salada e o preço é: 12\n \nAtendente: O total ficou:32\n \n"
          ],
          "output_type": "stream"
        }
      ],
      "source": "import random\nLANCHES \u003d [\n    \u0027X-TUDO\u0027,\n    \u0027X-Salada\u0027,\n    \u0027X-BURGUER\u0027,\n    \u0027Guarana\u0027,\n    \u0027Coco-cola\u0027,\n    \u0027X-Bacon\u0027,\n    \u0027X-LANCHE\u0027\n]\n\nPRECOS \u003d {\n    \u002720\u0027,\n    \u002712\u0027,\n    \u002715\u0027,\n    \u002713\u0027,\n    \u00278\u0027,\n    \u00276\u0027,\n    \u00273\u0027\n}\nTOTAL \u003d 0\nLANCHES_ESCOLHIDO \u003d []\nvariavel \u003d 0\ndef clienteEscolha():\n    while True:\n        yield random.choice(LANCHES)\ndef antendenteResposta():\n    global TOTAL,variavel\n    print(\"MENU:\")\n    for i in LANCHES:\n        print(\"Atendende:\"+i)\n    while True:\n        print(\" \")\n        recv \u003d yield \n        print(\"Cliente: %s\" % recv)\n        print(\" \")\n\n        for (i,p) in zip(LANCHES, PRECOS):\n            if recv \u003d\u003d i:\n                print(\"Atendente:Seu lanche é: \"+ i +\" e o preço é: \"+ str(p))\n                TOTAL \u003d TOTAL + int(p)\n                print(\" \")\n                variavel \u003d variavel + 1\n                if variavel \u003d\u003d 1:\n                    print(\"MENU:\")\n                    for i in LANCHES:\n                        print(\"Atendende:\"+i)\n            if variavel \u003d\u003d 2:\n                print(\"Atendente: O total ficou:\" + str(TOTAL))\n                break\n\ns \u003d clienteEscolha()\nr \u003d antendenteResposta()\n\nr.send(None)\nfor a in range(2):\n    recv \u003d s.send(None)\n    try:\n        r.send(recv)\n    except StopIteration:\n        break\n\n\n\n",
      "metadata": {
        "pycharm": {
          "metadata": false,
          "name": "#%%\n",
          "is_executing": false
        }
      }
    }
  ],
  "metadata": {
    "language_info": {
      "codemirror_mode": {
        "name": "ipython",
        "version": 2
      },
      "file_extension": ".py",
      "mimetype": "text/x-python",
      "name": "python",
      "nbconvert_exporter": "python",
      "pygments_lexer": "ipython2",
      "version": "2.7.6"
    },
    "kernelspec": {
      "name": "python3",
      "language": "python",
      "display_name": "Python 3"
    },
    "stem_cell": {
      "cell_type": "raw",
      "source": "",
      "metadata": {
        "pycharm": {
          "metadata": false
        }
      }
    }
  },
  "nbformat": 4,
  "nbformat_minor": 0
}
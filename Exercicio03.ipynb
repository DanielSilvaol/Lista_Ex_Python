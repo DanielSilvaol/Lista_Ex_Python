{
 "cells": [
  {
   "cell_type": "code",
   "execution_count": null,
   "metadata": {},
   "outputs": [],
   "source": [
    "1. Faça um Programa que peça dois números e imprima o maior deles."
   ]
  },
  {
   "cell_type": "code",
   "execution_count": null,
   "metadata": {},
   "outputs": [],
   "source": [
    "a = int(input(\"Digite o primeiro valor: \"))\n",
    "b = int(input(\"Digite o primeiro valor: \"))\n",
    "print(\"O maior valor é: {}\".format(a if a>b else b))"
   ]
  },
  {
   "cell_type": "markdown",
   "metadata": {},
   "source": [
    "2. Faça um Programa que verifique se uma letra digitada é vogal ou consoante."
   ]
  },
  {
   "cell_type": "code",
   "execution_count": null,
   "metadata": {},
   "outputs": [],
   "source": [
    "letra = input(\"Digite a letra: \")\n",
    "\n",
    "if(letra == 'a' or letra == 'e' or letra == 'i' or letra == 'o' or letra == 'u'):\n",
    "  print(\"vogal\")\n",
    "else:\n",
    "  print(\"consoante\")"
   ]
  },
  {
   "cell_type": "markdown",
   "metadata": {},
   "source": [
    "3. Faça um programa para a leitura de duas notas parciais de um aluno. \n",
    "- O programa deve calcular a média alcançada por aluno e apresentar:\n",
    "- A mensagem \"Aprovado\", se a média alcançada for maior ou igual a sete;\n",
    "- A mensagem \"Reprovado\", se a média for menor do que sete;\n",
    "- A mensagem \"Aprovado com Distinção\", se a média for igual a dez"
   ]
  },
  {
   "cell_type": "code",
   "execution_count": null,
   "metadata": {},
   "outputs": [],
   "source": [
    "nota1 = int(input(\"Digite a primeira nota: \"))\n",
    "nota2 = int(input(\"Digite a segunda nota: \"))\n",
    "\n",
    "media = (nota1+nota2)/2\n",
    "\n",
    "if(media >= 7 and media < 10):\n",
    "  print(\"Aprovado\")\n",
    "elif(media == 10):\n",
    "  print(\"Aprovado com Distinção\")\n",
    "else:\n",
    "  print(\"Reprovado\")"
   ]
  },
  {
   "cell_type": "markdown",
   "metadata": {},
   "source": [
    "4. Faça um Programa que leia três números e mostre-os em ordem decrescente."
   ]
  },
  {
   "cell_type": "code",
   "execution_count": null,
   "metadata": {},
   "outputs": [],
   "source": [
    "primeiro = int(input('Primeiro numero: '))\n",
    "segundo  = int(input('Segundo numero : '))\n",
    "terceiro = int(input('Terceiro numero: '))\n",
    "\n",
    "print(primeiro,'-',segundo,'-',terceiro)\n",
    "\n",
    "if(terceiro > segundo):\n",
    "  aux = terceiro\n",
    "  terceiro = segundo\n",
    "  segundo = aux\n",
    "\n",
    "if(segundo > primeiro):\n",
    "    aux = segundo\n",
    "    segundo = primeiro\n",
    "    primeiro = aux\n",
    "\n",
    "if(terceiro > segundo):\n",
    "    aux = terceiro\n",
    "    terceiro = segundo\n",
    "    segundo = aux\n",
    "\n",
    "print(primeiro,'-',segundo,'-',terceiro)"
   ]
  },
  {
   "cell_type": "markdown",
   "metadata": {},
   "source": [
    "5. As Organizações Tabajara resolveram dar um aumento de salário aos seus\n",
    "- colaboradores e lhe contrataram para desenvolver o programa que calculará os\n",
    "- reajustes.\n",
    "- Faça um programa que recebe o salário de um colaborador e o reajuste segundo o\n",
    "- seguinte critério, baseado no salário atual:\n",
    "- salários até R$ 280,00 (incluindo) : aumento de 20%\n",
    "- salários entre R$ 280,00 e R$ 700,00 : aumento de 15%\n",
    "- salários entre R$ 700,00 e R$ 1500,00 : aumento de 10%\n",
    "- salários de R$ 1500,00 em diante : aumento de 5% Após o aumento ser realizado,\n",
    "- informe na tela:\n",
    "- o salário antes do reajuste;\n",
    "- o percentual de aumento aplicado;\n",
    "- o valor do aumento;\n",
    "- o novo salário, após o aumento."
   ]
  },
  {
   "cell_type": "code",
   "execution_count": null,
   "metadata": {},
   "outputs": [],
   "source": [
    "salario = int(input(\"Digite o salario do colaborador: \"))\n",
    "aumento = 0\n",
    "result = 0\n",
    "percentual = 0\n",
    "if(salario<280):\n",
    "  percentual = 0.20\n",
    "  aumento = salario* percentual\n",
    "  result = salario + aumento\n",
    "elif(salario >= 280 and salario<700):\n",
    "  percentual = 0.15\n",
    "  aumento = salario * percentual\n",
    "  result = salario + aumento\n",
    "elif(salario >= 700 and salario<1500):\n",
    "  percentual = 0.10\n",
    "  aumento = salario * percentual\n",
    "  result = salario + aumento\n",
    "elif(salario>=1500):\n",
    "  percentual = 0.05\n",
    "  aumento = salario * percentual\n",
    "  result = salario + aumento\n",
    "\n",
    "print (\"Salario antigo: {}\\nO percentual é: {}\\nValor do aumento: {}\\nNovo salario: {}\".format(salario,percentual,aumento,result))"
   ]
  },
  {
   "cell_type": "markdown",
   "metadata": {},
   "source": [
    "6. Faça um Programa que leia um número e exiba o dia correspondente da semana.\n",
    "- (1-Domingo, 2- Segunda, etc.), se digitar outro valor deve aparecer valor inválido."
   ]
  },
  {
   "cell_type": "code",
   "execution_count": null,
   "metadata": {},
   "outputs": [],
   "source": [
    "dia = int(input(\"Digite um numero de 1 a 7: \"))\n",
    "semana = [\"Domingo\",\"Segunda\",\"Terça\",\"Quarta\",\"Quinta\",\"Sexta\",\"Sabado\"]\n",
    "if(dia <= 7 and dia >= 1):\n",
    "  if(dia == 1):\n",
    "    print(semana[0])\n",
    "  elif(dia == 2):\n",
    "    print(semana[1])\n",
    "  elif(dia == 3):\n",
    "    print(semana[2])\n",
    "  elif(dia == 4):\n",
    "    print(semana[3])\n",
    "  elif(dia == 5):\n",
    "    print(semana[4])\n",
    "  elif(dia == 6):\n",
    "    print(semana[5])\n",
    "  elif(dia == 7):\n",
    "    print(semana[6])\n",
    "else:\n",
    "  print(\"Numero invalido!\")"
   ]
  },
  {
   "cell_type": "markdown",
   "metadata": {},
   "source": [
    "7. Faça um programa que lê as duas notas parciais obtidas por um aluno numa disciplina ao longo de um semestre, e calcule a sua média. A atribuição de conceitos obedece à tabela abaixo:\n",
    "- Média de Aproveitamento Conceito\n",
    "- Entre 9.0 e 10.0 A\n",
    "- Entre 7.5 e 9.0 B\n",
    "- Entre 6.0 e 7.5 C\n",
    "- Entre 4.0 e 6.0 D\n",
    "- Entre 4.0 e zero E\n",
    "- O algoritmo deve mostrar na tela as notas, a média, o conceito correspondente e a mensagem “APROVADO” se o conceito for A, B ou C ou “REPROVADO” se o conceito for D ou E."
   ]
  },
  {
   "cell_type": "code",
   "execution_count": null,
   "metadata": {},
   "outputs": [],
   "source": [
    "nota1 = int(input(\"Digite a primeira nota: \"))\n",
    "nota2 = int(input(\"Digite a segunda nota: \"))\n",
    "\n",
    "media = (nota1+nota2)/2\n",
    "classeficacao = ''\n",
    "\n",
    "if(media>=9):\n",
    "  classeficacao = 'A'\n",
    "elif(media>=7.5 and media < 9):\n",
    "  classeficacao = 'B'\n",
    "elif(media >= 6 and media < 7.5):\n",
    "  classeficacao = 'C'\n",
    "elif(media >= 4 and media < 6):\n",
    "  classeficacao = 'D'\n",
    "elif(media > 4):\n",
    "  classeficacao = 'E'\n",
    "\n",
    "print(\"Notas: {} - {}\\nMedia: {}\\nCorrespondente: {}\\nStatus: {}\".format(nota1,nota2,media,classeficacao,\"Aprovado\" if classeficacao != 'D' and classeficacao != 'E'else\"Reprovado\"))"
   ]
  },
  {
   "cell_type": "markdown",
   "metadata": {},
   "source": [
    "8. Faça um Programa que peça os 3 lados de um triângulo. O programa deverá informar se os valores podem ser um triângulo. Indique, caso os lados formem um triângulo, se o mesmo é: equilátero, isósceles ou escaleno.\n",
    "- Dicas:\n",
    "- Três lados formam um triângulo quando a soma de quaisquer dois lados for maior que o terceiro;\n",
    "- Triângulo Equilátero: três lados iguais;\n",
    "- Triângulo Isósceles: quaisquer dois lados iguais;\n",
    "- Triângulo Escaleno: três lados diferentes;"
   ]
  },
  {
   "cell_type": "code",
   "execution_count": null,
   "metadata": {},
   "outputs": [],
   "source": [
    "lado1 = int(input(\"Primeiro lado: \"))\n",
    "lado2 = int(input(\"Segundo lado: \"))\n",
    "lado3 = int(input(\"Terceiro lado: \"))\n",
    "if(lado1+lado2>lado3 or lado1+lado3>lado2 or lado2+lado3>lado1):\n",
    "  if(lado1 != lado2 and lado2 != lado3):\n",
    "    print(\"Triangulo Escaleno\")\n",
    "  elif(lado1 == lado2 and lado2 == lado3):\n",
    "    print(\"Triangulo Equilátero\")\n",
    "  elif(lado1 == lado2 or lado2 == lado3 or lado1 == lado3):\n",
    "    print(\"Triângulo Isóceles\")\n",
    "else:\n",
    "    print(\"Não forma um triangulo\")"
   ]
  },
  {
   "cell_type": "markdown",
   "metadata": {},
   "source": [
    "9. Faça um programa que calcule as raízes de uma equação do segundo grau, na forma ax2 + bx + c. O programa deverá pedir os valores de a, b e c e fazer as consistências, informando ao usuário nas seguintes situações:\n",
    "- Se o usuário informar o valor de A igual a zero, a equação não é do segundo grau e o programa não deve fazer pedir os demais valores, sendo encerrado;\n",
    "- Se o delta calculado for negativo, a equação não possui raizes reais. Informe ao usuário e encerre o programa;\n",
    "- Se o delta calculado for igual a zero a equação possui apenas uma raiz real; \n",
    "   informe-a ao usuário;\n",
    "- Se o delta for positivo, a equação possui duas raiz reais; informe-as ao usuário;\n"
   ]
  },
  {
   "cell_type": "code",
   "execution_count": null,
   "metadata": {},
   "outputs": [],
   "source": [
    "import math\n",
    "\n",
    "print(\"digite os termos da equacao a, b e c da equacao ax^2 + bx + c\")\n",
    "a = int(input(\"digite o valor a: \"))\n",
    "if a == 0:\n",
    "    print(\"nao eh uma equacao de segundo grau\")\n",
    "else:\n",
    "    b = int(input(\"digite o valor b: \"))\n",
    "    c = int(input(\"digite o valor c: \"))\n",
    "    delta = (math.pow(b,2) - (4*a*c))\n",
    "    if delta < 0:         \n",
    "        print(\"delta = {} a equacao nao possui raizes reais\".format(delta))     \n",
    "    if delta == 0:         \n",
    "        print(\"delta = {} a equacao possui uma raiz\".format(delta))         \n",
    "        raiz = ((-1)*b + math.sqrt(delta))/(2*a)         \n",
    "        print(\"raiz da equacao = {},\".format(raiz))     \n",
    "    if delta > 0:\n",
    "        print(\"delta = {} a equacao possui duas raizes\".format(delta))\n",
    "        raiz1 = ((-1)*b + math.sqrt(delta))/(2*a)\n",
    "        raiz2 = ((-1)*b - math.sqrt(delta))/(2*a)\n",
    "        print(\"raiz1 da equacao = {}\".format(raiz1))\n",
    "        print(\"raiz2 da equacao = {}\".format(raiz2))"
   ]
  },
  {
   "cell_type": "markdown",
   "metadata": {},
   "source": [
    "10. Faça um Programa para um caixa eletrônico. O programa deverá perguntar ao usuário a valor do saque e depois informar quantas notas de cada valor serão fornecidas. As notas disponíveis serão as de 1, 5, 10, 50 e 100 reais. O valor mínimo é de 10 reais e o máximo de 600 reais. O programa não deve se preocupar com a quantidade de notas existentes na máquina.\n",
    "- Exemplo 1: Para sacar a quantia de 256 reais, o programa fornece duas notas de 100, uma nota de 50, uma nota de 5 e uma nota de 1;\n",
    "- Exemplo 2: Para sacar a quantia de 399 reais, o programa fornece três notas de 100, uma nota de 50, quatro notas de 10, uma nota de 5 e quatro notas de 1."
   ]
  },
  {
   "cell_type": "code",
   "execution_count": null,
   "metadata": {},
   "outputs": [],
   "source": [
    "saque = int(input(\"Digite o valor do saque: \"))\n",
    "\n",
    "if(10 <= saque <= 600):\n",
    "    notas_cem = saque // 100\n",
    "    saque = saque % 100\n",
    "\n",
    "    notas_cinquenta = saque // 50\n",
    "    saque = saque % 50\n",
    "\n",
    "    notas_dez = saque // 10\n",
    "    saque = saque % 10\n",
    "\n",
    "    notas_cinco = saque // 5\n",
    "    saque = saque % 5\n",
    "\n",
    "    notas_um = saque // 1\n",
    "\n",
    "    if(notas_cem > 0):\n",
    "        print(notas_cem, \"notas de R$ 100\")\n",
    "    if(notas_cinquenta > 0):\n",
    "        print(notas_cinquenta, \"notas de R$ 50\")\n",
    "    if(notas_dez > 0):\n",
    "        print(notas_dez, \"notas de R$ 10\")\n",
    "    if(notas_cinco > 0):\n",
    "        print(notas_cinco, \"notas de R$ 5\")\n",
    "    if(notas_um > 0):\n",
    "        print(notas_um, \"notas de R$ 1\")\n",
    "              \n",
    "else:\n",
    "    print(\"Nao é possivel fazer o saque\")"
   ]
  },
  {
   "cell_type": "markdown",
   "metadata": {},
   "source": [
    "11. Faça um programa que faça 5 perguntas para uma pessoa sobre um crime. As perguntas são:\n",
    "- \"Telefonou para a vítima?\"\n",
    "- \"Esteve no local do crime?\"\n",
    "- \"Mora perto da vítima?\"\n",
    "- \"Devia para a vítima?\"\n",
    "- \"Já trabalhou com a vítima?\"\n",
    "- O programa deve no final emitir uma classificação sobre a participação da pessoa no crime. Se a pessoa responder positivamente a 2 questões ela deve ser classificada como \"Suspeita\", entre 3 e 4 como \"Cúmplice\" e 5 como \"Assassino\". Caso contrário, ele será classificado como \"Inocente\"."
   ]
  },
  {
   "cell_type": "code",
   "execution_count": null,
   "metadata": {},
   "outputs": [],
   "source": [
    "perguntas = [ \n",
    "    \"Telefonou para a vítima?\" ,\n",
    "    \"Esteve no local do crime?\" ,\n",
    "    \"Mora perto da vítima?\" ,\n",
    "    \"Devia para a vítima?\" ,\n",
    "    \"Já trabalhou com a vítima?\" \n",
    "]\n",
    "resposta = 0\n",
    "for qual in perguntas:\n",
    "  resposta += (input(qual) == \"S\")\n",
    "  \n",
    "if resposta == 5:\n",
    "  print(\"Assassino\")\n",
    "elif resposta >=3:\n",
    "  print(\"Cúmplice\")\n",
    "elif resposta ==2:\n",
    "  print(\"Suspeito\")\n",
    "else:\n",
    "  print(\"Inocente\")"
   ]
  },
  {
   "cell_type": "markdown",
   "metadata": {},
   "source": [
    "12. Uma fruteira está vendendo frutas com a seguinte tabela de preços:\n",
    " Até 5 Kg Acima de 5 Kg\n",
    "Morango R$ 2,50 por Kg R$ 2,20 por Kg\n",
    "Maçã R$ 1,80 por Kg R$ 1,50 por Kg\n",
    "Se o cliente comprar mais de 8 Kg em frutas ou o valor total da compra ultrapassar\n",
    "R$ 25,00, receberá ainda um desconto de 10% sobre este total. Escreva um\n",
    "algoritmo para ler a quantidade (em Kg) de morangos e a quantidade (em Kg) de\n",
    "maças adquiridas e escreva o valor a ser pago pelo cliente."
   ]
  },
  {
   "cell_type": "code",
   "execution_count": null,
   "metadata": {},
   "outputs": [],
   "source": [
    "morango=float(input(\"Digite a quantidade de morangos em kg\"))\n",
    "maca=float(input(\"Digite a quantidade de maca em kg\"))\n",
    "if morango<=5:\n",
    "  preco_morango=morango*2.5\n",
    "elif morango>5:\n",
    "  preco_morango=morango*2.2\n",
    "if maca<=5:\n",
    "  preco_maca=maca*1.8\n",
    "elif maca>5:\n",
    "  preco_maca=maca*1.5\n",
    "if morango+maca>8 or preco_morango+preco_maca>25:\n",
    "  total=(preco_morango+preco_maca)*0.9\n",
    "else:\n",
    "  total=preco_morango+preco_maca\n",
    "print(\"Vc comprou %2.2f kg de morangos, %2.2f kg de maças e o valor total é %2.2f\"%(morango,maca,total))"
   ]
  },
  {
   "cell_type": "markdown",
   "metadata": {},
   "source": [
    "13. Faça um programa que peça uma nota, entre zero e dez. Mostre uma mensagem\n",
    "caso o valor seja inválido e continue pedindo até que o usuário informe um valor\n",
    "válido."
   ]
  },
  {
   "cell_type": "code",
   "execution_count": null,
   "metadata": {},
   "outputs": [],
   "source": [
    "nota=int(input(\"Digite um número entre 0 e 10: \"))\n",
    "print(nota)\n",
    "while(nota>10) or (nota<0):\n",
    "  print(\"valor inválido, digite outra nota\")\n",
    "  nota=int(input(\"Digite um número entre 0 e 10: \"))"
   ]
  },
  {
   "cell_type": "markdown",
   "metadata": {},
   "source": [
    "14.  Faça um programa que leia e valide as seguintes informações:\n",
    "Nome: maior que 3 caracteres;\n",
    "Idade: entre 0 e 150;\n",
    "Salário: maior que zero;\n",
    "Sexo: 'f' ou 'm';\n",
    "Estado Civil: 's', 'c', 'v', 'd';\n"
   ]
  },
  {
   "cell_type": "code",
   "execution_count": null,
   "metadata": {},
   "outputs": [],
   "source": []
  },
  {
   "cell_type": "markdown",
   "metadata": {},
   "source": [
    "15. Faça um programa que leia 5 números e informe o maior número."
   ]
  },
  {
   "cell_type": "code",
   "execution_count": null,
   "metadata": {},
   "outputs": [],
   "source": [
    "maior=0\n",
    "num=0\n",
    "for i in range (5):\n",
    "  num=int(input(\"Digite o próximo número\"))\n",
    "  if num>maior:\n",
    "    maior=num\n",
    "print(maior)"
   ]
  },
  {
   "cell_type": "markdown",
   "metadata": {},
   "source": [
    "16. Faça um programa que leia 5 números e informe a soma e a média dos números."
   ]
  },
  {
   "cell_type": "code",
   "execution_count": null,
   "metadata": {},
   "outputs": [],
   "source": [
    "soma=0\n",
    "for i in range (1,6):\n",
    "  num=int(input(\"Digite o numero %i\"%i))\n",
    "  soma=soma+num\n",
    "media=soma/5\n",
    "print(media)\n",
    "print(soma)"
   ]
  },
  {
   "cell_type": "markdown",
   "metadata": {},
   "source": [
    "17. Faça um programa que imprima na tela apenas os números ímpares entre 1 e 50."
   ]
  },
  {
   "cell_type": "code",
   "execution_count": null,
   "metadata": {},
   "outputs": [],
   "source": [
    "programa='sim'\n",
    "while programa=='sim':\n",
    "  n=int(input(\"Digite um número impar entre 1 e 50: \"))\n",
    "  if n%2!=0 and n>=1 and n<=50:\n",
    "    print(n)\n",
    "  programa=input(\"vc deseja fazer outro teste?\")"
   ]
  },
  {
   "cell_type": "markdown",
   "metadata": {},
   "source": [
    "18. Desenvolva um gerador de tabuada, capaz de gerar a tabuada de qualquer\n",
    "número inteiro entre 1 a 10. O usuário deve informar de qual numero ele deseja ver\n",
    "a tabuada. A saída deve ser conforme o exemplo abaixo:\n",
    "Tabuada de 5:\n",
    "5 X 1 = 5\n",
    "5 X 2 = 10\n",
    "...\n",
    "5 X 10 = 50\n"
   ]
  },
  {
   "cell_type": "code",
   "execution_count": null,
   "metadata": {},
   "outputs": [],
   "source": [
    "n=int(input(\"digite o numero ao qual tabuada pertence: \"))\n",
    "for i in range(1,11):\n",
    "  print(n,\"x %i\"%i,\"=\",n*i)"
   ]
  },
  {
   "cell_type": "markdown",
   "metadata": {},
   "source": [
    "19. A série de Fibonacci é formada pela seqüência 1,1,2,3,5,8,13,21,34,55,... Faça um\n",
    "programa capaz de gerar a série até o n−ésimo termo."
   ]
  },
  {
   "cell_type": "code",
   "execution_count": null,
   "metadata": {},
   "outputs": [],
   "source": [
    "n1=1\n",
    "n2=1\n",
    "n3=0\n",
    "serie=int(input(\"digite o n-esimo termo da serie fibonacci\"))\n",
    "for i in range(1,serie-1):\n",
    "  n3=n1+n2\n",
    "  n1=n3-n1\n",
    "  n2=n3\n",
    "print(n3)"
   ]
  },
  {
   "cell_type": "markdown",
   "metadata": {},
   "source": [
    "20. Faça um programa que calcule o fatorial de um número inteiro fornecido pelo\n",
    "usuário. Ex.: 5!=5.4.3.2.1=120"
   ]
  },
  {
   "cell_type": "code",
   "execution_count": null,
   "metadata": {},
   "outputs": [],
   "source": [
    "n=int(input(\"Digite o numero para calcular o fatorial\"))\n",
    "  c=n\n",
    "  f=1\n",
    "  while c>0:\n",
    "    f=f*c\n",
    "    c=c-1\n",
    "  print(f)"
   ]
  },
  {
   "cell_type": "markdown",
   "metadata": {},
   "source": [
    "21. O Sr. Manoel Joaquim possui uma grande loja de artigos de R$ 1,99, com cerca\n",
    "de 10 caixas. Para agilizar o cálculo de quanto cada cliente deve pagar ele\n",
    "desenvolveu um tabela que contém o número de itens que o cliente comprou e ao\n",
    "lado o valor da conta. Desta forma a atendente do caixa precisa apenas contar\n",
    "quantos itens o cliente está levando e olhar na tabela de preços. Você foi contratado\n",
    "para desenvolver o programa que monta esta tabela de preços, que conterá os\n",
    "preços de 1 até 50 produtos, conforme o exemplo abaixo:\n"
   ]
  },
  {
   "cell_type": "code",
   "execution_count": null,
   "metadata": {},
   "outputs": [],
   "source": [
    "val_product = 1.99\n",
    "valores = []\n",
    "aux1 = 0.0\n",
    "aux = 0\n",
    "for i in range(1,51):\n",
    "    valores.append(val_product * i )\n",
    "\n",
    "for mostrar in valores:\n",
    "    aux += 1\n",
    "    print(\"{} - R$ {}\".format(aux,mostrar))"
   ]
  },
  {
   "cell_type": "markdown",
   "metadata": {},
   "source": [
    "22. O Sr. Manoel Joaquim acaba de adquirir uma panificadora e pretende implantar\n",
    "a metodologia da tabelinha, que já é um sucesso na sua loja de 1,99. Você foi\n",
    "contratado para desenvolver o programa que monta a tabela de preços de pães, de\n",
    "1 até 50 pães, a partir do preço do pão informado pelo usuário, conforme o exemplo\n",
    "abaixo:"
   ]
  },
  {
   "cell_type": "code",
   "execution_count": null,
   "metadata": {},
   "outputs": [],
   "source": [
    "val_product = float(input(\"Preço do pão: R$ \"))\n",
    "valores = []\n",
    "aux1 = 0.0\n",
    "aux = 0\n",
    "for i in range(1,51):\n",
    "    valores.append(val_product * i )\n",
    "\n",
    "print(\"Panificadora Pão de Ontem - Tabela de preços\\n\")\n",
    "for mostrar in valores:\n",
    "    aux += 1\n",
    "    print(\"%s - R$ %.2f\"%(aux,mostrar))"
   ]
  },
  {
   "cell_type": "markdown",
   "metadata": {},
   "source": [
    "23. O Sr. Manoel Joaquim expandiu seus negócios para além dos negócios de 1,99 e\n",
    "agora possui uma loja de conveniências. Faça um programa que implemente uma\n",
    "caixa registradora rudimentar. O programa deverá receber um número\n",
    "desconhecido de valores referentes aos preços das mercadorias. Um valor zero deve\n",
    "ser informado pelo operador para indicar o final da compra. O programa deve então\n",
    "mostrar o total da compra e perguntar o valor em dinheiro que o cliente forneceu,\n",
    "para então calcular e mostrar o valor do troco. Após esta operação, o programa\n",
    "deverá voltar ao ponto inicial, para registrar a próxima compra. A saída deve ser\n",
    "conforme o exemplo abaixo:\n"
   ]
  },
  {
   "cell_type": "code",
   "execution_count": null,
   "metadata": {},
   "outputs": [],
   "source": [
    "total = 0\n",
    "preco = -1\n",
    "i = 0\n",
    "while preco != 0:\n",
    "    preco = float(input(\"Insira o preço do item (Digite '0' para finalizar a compra): \"))\n",
    "    total += preco\n",
    "    i += 1\n",
    "    if preco == 0:\n",
    "        print(f\"Total: R$ {total}\")\n",
    "        pago = float(input(\"Insira o valor a ser pago: \"))\n",
    "        print(\"Troco: R$ \", pago - total)\n",
    "    else:\n",
    "        print(f\"Produto {i}: R$ {preco}\")"
   ]
  },
  {
   "cell_type": "markdown",
   "metadata": {},
   "source": [
    "24 - Foi feita uma estatística em cinco cidades brasileiras para coletar dados sobre acidentes de trânsito. Foram obtidos os seguintes dados:\n",
    "\n",
    "Código da cidade;\n",
    "Número de veículos de passeio (em 1999);\n",
    "Número de acidentes de trânsito com vítimas (em 1999). Deseja-se saber:\n",
    "Qual o maior e menor índice de acidentes de transito e a que cidade pertence;\n",
    "Qual a média de veículos nas cinco cidades juntas;\n",
    "Qual a média de acidentes de trânsito nas cidades com menos de 2.000 veículos de passeio."
   ]
  },
  {
   "cell_type": "code",
   "execution_count": null,
   "metadata": {},
   "outputs": [],
   "source": [
    "cidades = {\n",
    "    \"cidade1\": [1234, 13],\n",
    "    \"cidade2\": [54321, 15],\n",
    "    \"cidade3\": [123, 25],\n",
    "    \"cidade4\": [12345, 7],\n",
    "    \"cidade5\": [54321, 27]\n",
    "}\n",
    "\n",
    "menorIndice = [cidades[\"cidade1\"][0], cidades[\"cidade1\"][1]]\n",
    "maiorIndice = [cidades[\"cidade1\"][0], cidades[\"cidade1\"][1]]\n",
    "somaVeiculos = 0\n",
    "somaAcidentes = 0\n",
    "contCidades = 0\n",
    "for cod in cidades:\n",
    "    somaVeiculos += cidades[cod][0]\n",
    "    if cidades[cod][0] < 2000:\n",
    "        somaAcidentes += cidades[cod][1]\n",
    "        contCidades += 1\n",
    "    if cidades[cod][1] > maiorIndice[0]:\n",
    "        maiorIndice[0] = cidades[cod][1]\n",
    "        maiorIndice[1] = cod\n",
    "    if cidades[cod][1] < menorIndice[0]:\n",
    "        menorIndice[0] = cidades[cod][1]\n",
    "        menorIndice[1] = cod\n",
    "        \n",
    "    \n",
    "mediaVeiculos = somaVeiculos / len(cidades.keys())\n",
    "mediaAcidentes = somaAcidentes / contCidades\n",
    "\n",
    "print(\"Maior índice é a cidade: \", maiorIndice)\n",
    "print(\"Menor índice é a cidade: \", menorIndice)\n",
    "print(\"Média de veículos nas cinco cidades juntas: \", mediaVeiculos)\n",
    "print(\"Média de acidentes de trânsito nas cidades com menos de 2.000 veículos de passeio: \", mediaAcidentes)"
   ]
  },
  {
   "cell_type": "markdown",
   "metadata": {},
   "source": [
    "25 - Faça um programa que receba o valor de uma dívida e mostre uma tabela com os seguintes dados: valor da dívida, valor dos juros, quantidade de parcelas e valor da parcela. Os juros e a quantidade de parcelas seguem a tabela abaixo: Quantidade de Parcelas % de Juros sobre o valor inicial da dívida 1 0 3 10 6 15 9 20 12 25 Exemplo de saída do programa: Valor da Dívida Valor dos Juros Quantidade de Parcelas Valor da Parcela R$ 1.000,00 0 1 R$ 1.000,00 R$ 1.100,00 100 3 R$ 366,00 R$ 1.150,00 150 6 R$ 191,67"
   ]
  },
  {
   "cell_type": "code",
   "execution_count": null,
   "metadata": {},
   "outputs": [],
   "source": [
    "\n",
    "dividaInicial = float(input(\"Insira o valor da dívida: \"))\n",
    "print(\"Dívida \\t Valor Juros \\t Qtde Parcelas \\t Valor da Parcela\")\n",
    "for i in range(0, 5):\n",
    "    if i == 0:\n",
    "        juros = 0\n",
    "    elif i == 1:\n",
    "        juros = 10\n",
    "    else:\n",
    "        juros += 5\n",
    "    valorJuros = dividaInicial * (juros / 100)\n",
    "    divida = dividaInicial + valorJuros\n",
    "    if i == 0:\n",
    "        qtdeParc = 1\n",
    "    else:\n",
    "        qtdeParc = i * 3\n",
    "    if qtdeParc != 0:\n",
    "        valorParcela = divida / qtdeParc\n",
    "    else:\n",
    "        valorParcela = divida\n",
    "    print(f\"R$ {divida} \\t {valorJuros} \\t {qtdeParc} \\t R$ %.2f\"%(valorParcela))"
   ]
  },
  {
   "cell_type": "markdown",
   "metadata": {},
   "source": [
    "\n",
    "26 - Faça um programa que mostre os n termos da Série a seguir: S = 1/1 + 2/3 + 3/5 + 4/7 + 5/9 + ... + n/m. Imprima no final a soma da série."
   ]
  },
  {
   "cell_type": "code",
   "execution_count": null,
   "metadata": {},
   "outputs": [],
   "source": [
    "\n",
    "termo = int(input('Insira a quantidade de termos desejada: '))\n",
    "\n",
    "somaStr = \"S = \"\n",
    "s = 0\n",
    "m = 1\n",
    "for n in range(1, termo + 1):\n",
    "    s += n / m\n",
    "    somaStr += str(n) + \"/\" + str(m)\n",
    "    if n != termo:\n",
    "        somaStr += \" + \"\n",
    "    m += 2\n",
    "\n",
    "print(somaStr)\n",
    "print('Soma da série: %s' % s)"
   ]
  }
 ],
 "metadata": {
  "kernelspec": {
   "display_name": "Python 3",
   "language": "python",
   "name": "python3"
  },
  "language_info": {
   "codemirror_mode": {
    "name": "ipython",
    "version": 3
   },
   "file_extension": ".py",
   "mimetype": "text/x-python",
   "name": "python",
   "nbconvert_exporter": "python",
   "pygments_lexer": "ipython3",
   "version": "3.7.1"
  }
 },
 "nbformat": 4,
 "nbformat_minor": 2
}

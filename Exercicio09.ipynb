{
  "cells": [
    {
      "cell_type": "markdown",
      "source": "1. A seguinte função calcula o valor de uma equação do segundo grau no ponto x,\ndados os coeficientes a, b e c.\n\ndef equacao_segundo_grau (x, a, b, c):\n    return a * x * x + b * x + c\n",
      "metadata": {
        "pycharm": {
          "metadata": false
        }
      }
    },
    {
      "cell_type": "code",
      "execution_count": 2,
      "outputs": [
        {
          "name": "stdout",
          "text": [
            "12\n"
          ],
          "output_type": "stream"
        }
      ],
      "source": "def equacao_segundo_grau (x, a, b, c):\n    return a * x * x + b * x + c\n\ndef equacao_segund_grau3(x,b,c):\n    return 3 * x * x + b * x + c\n\ndef equacao_segund_grau34(x,c):\n    return 3 * x * x + 4 * x + c\n\ndef equacao_segund_grau345(x):\n    return 3 * x * x + 4 * x + 5\n\nprint(equacao_segund_grau345(1))",
      "metadata": {
        "pycharm": {
          "metadata": false,
          "name": "#%%\n",
          "is_executing": false
        }
      }
    },
    {
      "cell_type": "markdown",
      "source": "1.2 Refaça o Exercício 1.1 usando o operador partial.",
      "metadata": {
        "pycharm": {
          "metadata": false
        }
      }
    },
    {
      "cell_type": "code",
      "execution_count": null,
      "outputs": [],
      "source": "from functools import partial\n\n\ndef equacao_segundo_grau_partial(a, b, c, x):\n    return a * x * x + b * x + c\n\n\nequacao_segundo_grau_partial_5 \u003d partial(equacao_segundo_grau_partial, 5)\n\nequacao_segundo_grau_partial_5_7 \u003d partial(equacao_segundo_grau_partial_5, 7)\n\nequacao_segundo_grau_partial_5_7_4 \u003d partial(equacao_segundo_grau_partial_5_7, 4)\n\nprint(equacao_segundo_grau_partial_5_7_4(2))",
      "metadata": {
        "pycharm": {
          "metadata": false,
          "name": "#%%\n"
        }
      }
    },
    {
      "cell_type": "markdown",
      "source": "1.3 Escreva uma função recursiva para calcular a seguinte relação de recorrência: f(n) \u003d 1 se n \u003e\u003d 1 e n \u003c\u003d 5 2 * (n – 1) + 3 caso contrário\n",
      "metadata": {
        "pycharm": {
          "metadata": false
        }
      }
    },
    {
      "cell_type": "code",
      "execution_count": null,
      "outputs": [],
      "source": "\ndef funcao_recursiva(n):\n    if n \u003e\u003d 1 and n \u003c\u003d 5:\n        return 1\n    return funcao_recursiva(n - 1)*2+3\n\nprint (funcao_recursiva(7))",
      "metadata": {
        "pycharm": {
          "metadata": false,
          "name": "#%%\n"
        }
      }
    },
    {
      "cell_type": "markdown",
      "source": "1.4 Refaça o Exercício 1.3 usando Memoization.\n\n\n",
      "metadata": {
        "pycharm": {
          "metadata": false
        }
      }
    },
    {
      "cell_type": "code",
      "execution_count": null,
      "outputs": [],
      "source": "cache \u003d {}\ncache[1] \u003d 1\ncache[2] \u003d 1\ncache[3] \u003d 1\ncache[4] \u003d 1\ncache[5] \u003d 1\n\ndef memoized_funcao_recursiva(n):\n    if n in cache:\n        return cache[n]\n    cache[n] \u003d memoized_funcao_recursiva(n - 1)*2+3\n    return cache[n]\n\nprint (memoized_funcao_recursiva(7))",
      "metadata": {
        "pycharm": {
          "metadata": false,
          "name": "#%%\n"
        }
      }
    },
    {
      "cell_type": "markdown",
      "source": "1.5 Refaça o Exercício 1.4 usando a técnica de Memoization implementada com um Decorator.\n\n",
      "metadata": {
        "pycharm": {
          "metadata": false
        }
      }
    },
    {
      "cell_type": "code",
      "execution_count": null,
      "outputs": [],
      "source": "cache \u003d {}\ncache[1] \u003d 1\ncache[2] \u003d 1\ncache[3] \u003d 1\ncache[4] \u003d 1\ncache[5] \u003d 1\n\ndef meu_decorator(func,n):\n    def decorator():\n        print(\"Antes de executar\")\n        func(n)\n        print(\"Depois de executar\")\n    return decorator\n\ndef memoized_funcao_recursiva_decorator(n):\n    if n in cache:\n        print (cache[n])\n        return cache[n]\n    cache[n] \u003d memoized_funcao_recursiva_decorator(n - 1)*2+3\n    print (cache[n])\n    return cache[n]\n\nmemoized_funcao_recursiva_decorator \u003d meu_decorator(memoized_funcao_recursiva_decorator,5)\nmemoized_funcao_recursiva_decorator()\n",
      "metadata": {
        "pycharm": {
          "metadata": false,
          "name": "#%%\n"
        }
      }
    }
  ],
  "metadata": {
    "language_info": {
      "codemirror_mode": {
        "name": "ipython",
        "version": 2
      },
      "file_extension": ".py",
      "mimetype": "text/x-python",
      "name": "python",
      "nbconvert_exporter": "python",
      "pygments_lexer": "ipython2",
      "version": "2.7.6"
    },
    "kernelspec": {
      "name": "python3",
      "language": "python",
      "display_name": "Python 3"
    },
    "stem_cell": {
      "cell_type": "raw",
      "source": "",
      "metadata": {
        "pycharm": {
          "metadata": false
        }
      }
    }
  },
  "nbformat": 4,
  "nbformat_minor": 0
}
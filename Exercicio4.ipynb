{
  "cells": [
    {
      "cell_type": "markdown",
      "metadata": {
        "pycharm": {}
      },
      "source": [
        "1 Menor de dois pares: Escreva uma função que retorne o menor de dois números\n",
        "dados se ambos os números forem pares, mas retorna o maior se um dos dois for\n",
        "ímpar. Exemplo:\n",
        "menor_de_dois_pares(2,4) --\u003e 2\n",
        "menor_de_dois_pares (2,5) --\u003e 5"
      ]
    },
    {
      "cell_type": "code",
      "execution_count": 11,
      "metadata": {
        "pycharm": {}
      },
      "outputs": [
        {
          "name": "stdout",
          "output_type": "stream",
          "text": [
            "Digite o valor de a: 2\n",
            "Digite o valor de b: 5\n",
            "5\n"
          ]
        }
      ],
      "source": [
        "def menor(a , b):\n",
        "    if a%2 \u003d\u003d 0 and b%2 \u003d\u003d 0 :\n",
        "        if a \u003c b :\n",
        "            print(a)\n",
        "        else:\n",
        "            print(b)\n",
        "    else:\n",
        "        if a \u003e b:\n",
        "            print(a)\n",
        "        else:\n",
        "            print(b)\n",
        "        \n",
        "a \u003d int(input(\"Digite o valor de a: \"))\n",
        "b \u003d int(input(\"Digite o valor de b: \"))\n",
        "menor(a,b)"
      ]
    },
    {
      "cell_type": "markdown",
      "metadata": {
        "pycharm": {}
      },
      "source": [
        "2 Mesma letra: Escreva uma função que receba uma string com duas palavras e\n",
        "retorne True se ambas palavras começarem com a mesma letra. Exemplo:\n",
        "mesma_letra(\u0027Cão covarde\u0027) -\u003e True\n",
        "mesma_letra(\u0027Vira Lata\u0027) -\u003e False"
      ]
    },
    {
      "cell_type": "code",
      "execution_count": 10,
      "metadata": {
        "pycharm": {}
      },
      "outputs": [
        {
          "name": "stdout",
          "output_type": "stream",
          "text": [
            "Digite uma frase com duas palavras: JOAO JOSE\n",
            "JOAO JOSE -\u003e True\n"
          ]
        }
      ],
      "source": [
        "def iguais(frase):\n",
        "    var \u003d frase.split(\u0027 \u0027);\n",
        "    if(var[0][0] \u003d\u003d var[1][0]):\n",
        "        print(\"{} -\u003e {}\".format(frase,True))\n",
        "    else:\n",
        "        print(\"{} -\u003e {}\".format(frase,False))\n",
        "\n",
        "\n",
        "iguais(input(\"Digite uma frase com duas palavras: \"))"
      ]
    },
    {
      "cell_type": "markdown",
      "metadata": {
        "pycharm": {}
      },
      "source": [
        "3 Mestre Yoda: Dada uma sentença, a função deve retornar a sentença com as\n",
        "palavras na ordem reversa. Exemplo:\n",
        "mestre_yoda(\u0027Eu estou em casa\u0027) --\u003e \u0027casa em estou Eu\u0027\n",
        "mestre_yoda(\u0027Estamos prontos\u0027) --\u003e \u0027prontos Estamos\u0027"
      ]
    },
    {
      "cell_type": "code",
      "execution_count": 32,
      "metadata": {
        "pycharm": {}
      },
      "outputs": [
        {
          "name": "stdout",
          "output_type": "stream",
          "text": [
            "joao Oliveira Daniel \n"
          ]
        }
      ],
      "source": [
        "def contrario(frase):\n",
        "    var \u003d frase.split(\u0027 \u0027)\n",
        "    var.reverse()\n",
        "    aux \u003d \"\"\n",
        "    for i in var:\n",
        "        aux +\u003d i + \" \"\n",
        "    print(aux)\n",
        "    \n",
        "contrario(\"Daniel Oliveira joao\")"
      ]
    },
    {
      "cell_type": "markdown",
      "metadata": {
        "pycharm": {}
      },
      "source": [
        "4 Tem 33: Faça uma função que retorne True se, dada uma lista de inteiros, houver\n",
        "em alguma posição da lista um 3 do lado de outro 3. Exemplo:\n",
        "tem_33([1,3,3]) --\u003e True\n",
        "tem_33([1,3,1,3]) --\u003e False\n",
        "tem_33([3,1,3]) --\u003e False"
      ]
    },
    {
      "cell_type": "code",
      "execution_count": 36,
      "metadata": {
        "pycharm": {}
      },
      "outputs": [
        {
          "name": "stdout",
          "output_type": "stream",
          "text": [
            "Tem 33\n"
          ]
        }
      ],
      "source": [
        "def tem(lista):\n",
        "    estado \u003d \u0027nada\u0027\n",
        "    for element in lista:\n",
        "        \n",
        "        if(element \u003d\u003d 3 and estado \u003d\u003d \u0027nada\u0027):\n",
        "            estado \u003d \u00273\u0027\n",
        "        elif(estado \u003d\u003d \u00273\u0027 and element \u003d\u003d 3):\n",
        "            estado \u003d \u002733\u0027\n",
        "            print(\"Tem 33\")\n",
        "            break\n",
        "        else:\n",
        "            estado \u003d \u0027nada\u0027\n",
        "        \n",
        "    else:\n",
        "        print(\"Não tem 33\")\n",
        "tem([1,2,3,3])"
      ]
    },
    {
      "cell_type": "markdown",
      "metadata": {
        "pycharm": {}
      },
      "source": [
        "5 Blackjack: Faça uma função que receba 3 inteiros entre 1 e 11. \n",
        "Se a soma deles for menor que 21, retorne o valor da soma. \n",
        "Se for maior do que 21 e houver um 11, subtraia 10 da soma antes de apresentar o resultado. \n",
        "Se o valor da soma passar de 21, retorne ‘ESTOUROU’. Exemplo:\n",
        "blackjack(5,6,7) --\u003e 18\n",
        "blackjack(9,9,9) --\u003e \u0027ESTOUROU\u0027\n",
        "blackjack(9,9,11) --\u003e 19"
      ]
    },
    {
      "cell_type": "code",
      "execution_count": 46,
      "metadata": {
        "pycharm": {}
      },
      "outputs": [
        {
          "name": "stdout",
          "output_type": "stream",
          "text": [
            "Digite o valor do primeiro numero: 10\n",
            "Digite o valor do segundo numero: 11\n",
            "Digite o valor do terceiro numero: 12\n",
            "Numero menor que 1 e maior que 11\n"
          ]
        }
      ],
      "source": [
        "def blackjack(num1,num2,num3):\n",
        "    resultado \u003d num1+num2+num3\n",
        "    if(resultado\u003c21):\n",
        "        print(resultado)\n",
        "    elif((num1 \u003d\u003d 11 or num2 \u003d\u003d 11 or num3 \u003d\u003d 11) and resultado \u003e 21):\n",
        "        resultado \u003d resultado - 10\n",
        "        print(resultado)\n",
        "    elif(resultado \u003e\u003d 21):\n",
        "        print(\"ESTOUROU\")\n",
        "\n",
        "num1 \u003d int(input(\"Digite o valor do primeiro numero: \"))\n",
        "num2 \u003d int(input(\"Digite o valor do segundo numero: \"))\n",
        "num3 \u003d int(input(\"Digite o valor do terceiro numero: \"))\n",
        "if((num1 \u003c\u003d 11 and num1 \u003e\u003d 1) and (num2 \u003c\u003d 11 and num2 \u003e\u003d 1) and (num3 \u003c\u003d 11 and num3 \u003e\u003d 1)):\n",
        "    blackjack(num1,num2,num3)\n",
        "else:\n",
        "    print(\"Numero menor que 1 e maior que 11\")"
      ]
    },
    {
      "cell_type": "markdown",
      "metadata": {
        "pycharm": {}
      },
      "source": [
        "6 Espião: Escreva uma função que receba uma lista de\n",
        "inteiros e retorne True se contém um 007 em ordem, mesmo\n",
        "que não contínuo. Exemplo:\n",
        "espiao([1,2,4,0,0,7,5]) --\u003e True\n",
        "espiao([1,0,2,4,0,5,7]) --\u003e True\n",
        "espiao([1,7,2,4,0,5,0]) --\u003e False"
      ]
    },
    {
      "cell_type": "code",
      "execution_count": 23,
      "metadata": {
        "pycharm": {}
      },
      "outputs": [
        {
          "name": "stdout",
          "output_type": "stream",
          "text": [
            "Achei o espião\n"
          ]
        }
      ],
      "source": "def acha_espiao(lista):\n    estado \u003d \u0027nada\u0027\n    for element in lista:\n        if(element \u003d\u003d 0 and estado \u003d\u003d \u0027nada\u0027):\n            estado \u003d \u00270\u0027\n        elif(estado \u003d\u003d \u00270\u0027 and element \u003d\u003d 0):\n            estado \u003d \u002700\u0027\n        elif(estado \u003d\u003d \u002700\u0027 and element \u003d\u003d 7):\n            print(\"Achei o espião\")\n            break\n    else:\n        print(\"Não encontrei o espião\")\n\nacha_espiao([1,0,0,7])\n"
    }
  ],
  "metadata": {
    "kernelspec": {
      "display_name": "Python 3",
      "language": "python",
      "name": "python3"
    },
    "language_info": {
      "codemirror_mode": {
        "name": "ipython",
        "version": 3
      },
      "file_extension": ".py",
      "mimetype": "text/x-python",
      "name": "python",
      "nbconvert_exporter": "python",
      "pygments_lexer": "ipython3",
      "version": "3.7.1"
    }
  },
  "nbformat": 4,
  "nbformat_minor": 2
}
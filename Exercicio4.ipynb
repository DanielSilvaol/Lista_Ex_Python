{
 "cells": [
  {
   "cell_type": "markdown",
   "metadata": {},
   "source": [
    "1 Menor de dois pares: Escreva uma função que retorne o menor de dois números\n",
    "dados se ambos os números forem pares, mas retorna o maior se um dos dois for\n",
    "ímpar. Exemplo:\n",
    "menor_de_dois_pares(2,4) --> 2\n",
    "menor_de_dois_pares (2,5) --> 5"
   ]
  },
  {
   "cell_type": "code",
   "execution_count": 11,
   "metadata": {},
   "outputs": [
    {
     "name": "stdout",
     "output_type": "stream",
     "text": [
      "Digite o valor de a: 2\n",
      "Digite o valor de b: 5\n",
      "5\n"
     ]
    }
   ],
   "source": [
    "def menor(a , b):\n",
    "    if a%2 == 0 and b%2 == 0 :\n",
    "        if a < b :\n",
    "            print(a)\n",
    "        else:\n",
    "            print(b)\n",
    "    else:\n",
    "        if a > b:\n",
    "            print(a)\n",
    "        else:\n",
    "            print(b)\n",
    "        \n",
    "a = int(input(\"Digite o valor de a: \"))\n",
    "b = int(input(\"Digite o valor de b: \"))\n",
    "menor(a,b)"
   ]
  },
  {
   "cell_type": "markdown",
   "metadata": {},
   "source": [
    "2 Mesma letra: Escreva uma função que receba uma string com duas palavras e\n",
    "retorne True se ambas palavras começarem com a mesma letra. Exemplo:\n",
    "mesma_letra('Cão covarde') -> True\n",
    "mesma_letra('Vira Lata') -> False"
   ]
  },
  {
   "cell_type": "code",
   "execution_count": 10,
   "metadata": {},
   "outputs": [
    {
     "name": "stdout",
     "output_type": "stream",
     "text": [
      "Digite uma frase com duas palavras: JOAO JOSE\n",
      "JOAO JOSE -> True\n"
     ]
    }
   ],
   "source": [
    "def iguais(frase):\n",
    "    var = frase.split(' ');\n",
    "    if(var[0][0] == var[1][0]):\n",
    "        print(\"{} -> {}\".format(frase,True))\n",
    "    else:\n",
    "        print(\"{} -> {}\".format(frase,False))\n",
    "\n",
    "\n",
    "iguais(input(\"Digite uma frase com duas palavras: \"))"
   ]
  },
  {
   "cell_type": "markdown",
   "metadata": {},
   "source": [
    "3 Mestre Yoda: Dada uma sentença, a função deve retornar a sentença com as\n",
    "palavras na ordem reversa. Exemplo:\n",
    "mestre_yoda('Eu estou em casa') --> 'casa em estou Eu'\n",
    "mestre_yoda('Estamos prontos') --> 'prontos Estamos'"
   ]
  },
  {
   "cell_type": "code",
   "execution_count": 32,
   "metadata": {},
   "outputs": [
    {
     "name": "stdout",
     "output_type": "stream",
     "text": [
      "joao Oliveira Daniel \n"
     ]
    }
   ],
   "source": [
    "def contrario(frase):\n",
    "    var = frase.split(' ')\n",
    "    var.reverse()\n",
    "    aux = \"\"\n",
    "    for i in var:\n",
    "        aux += i + \" \"\n",
    "    print(aux)\n",
    "    \n",
    "contrario(\"Daniel Oliveira joao\")"
   ]
  },
  {
   "cell_type": "markdown",
   "metadata": {},
   "source": [
    "4 Tem 33: Faça uma função que retorne True se, dada uma lista de inteiros, houver\n",
    "em alguma posição da lista um 3 do lado de outro 3. Exemplo:\n",
    "tem_33([1,3,3]) --> True\n",
    "tem_33([1,3,1,3]) --> False\n",
    "tem_33([3,1,3]) --> False"
   ]
  },
  {
   "cell_type": "code",
   "execution_count": 36,
   "metadata": {},
   "outputs": [
    {
     "name": "stdout",
     "output_type": "stream",
     "text": [
      "Tem 33\n"
     ]
    }
   ],
   "source": [
    "def tem(lista):\n",
    "    estado = 'nada'\n",
    "    for element in lista:\n",
    "        \n",
    "        if(element == 3 and estado == 'nada'):\n",
    "            estado = '3'\n",
    "        elif(estado == '3' and element == 3):\n",
    "            estado = '33'\n",
    "            print(\"Tem 33\")\n",
    "            break\n",
    "        else:\n",
    "            estado = 'nada'\n",
    "        \n",
    "    else:\n",
    "        print(\"Não tem 33\")\n",
    "tem([1,2,3,3])"
   ]
  },
  {
   "cell_type": "markdown",
   "metadata": {},
   "source": [
    "5 Blackjack: Faça uma função que receba 3 inteiros entre 1 e 11. \n",
    "Se a soma deles for menor que 21, retorne o valor da soma. \n",
    "Se for maior do que 21 e houver um 11, subtraia 10 da soma antes de apresentar o resultado. \n",
    "Se o valor da soma passar de 21, retorne ‘ESTOUROU’. Exemplo:\n",
    "blackjack(5,6,7) --> 18\n",
    "blackjack(9,9,9) --> 'ESTOUROU'\n",
    "blackjack(9,9,11) --> 19"
   ]
  },
  {
   "cell_type": "code",
   "execution_count": 46,
   "metadata": {},
   "outputs": [
    {
     "name": "stdout",
     "output_type": "stream",
     "text": [
      "Digite o valor do primeiro numero: 10\n",
      "Digite o valor do segundo numero: 11\n",
      "Digite o valor do terceiro numero: 12\n",
      "Numero menor que 1 e maior que 11\n"
     ]
    }
   ],
   "source": [
    "def blackjack(num1,num2,num3):\n",
    "    resultado = num1+num2+num3\n",
    "    if(resultado<21):\n",
    "        print(resultado)\n",
    "    elif((num1 == 11 or num2 == 11 or num3 == 11) and resultado > 21):\n",
    "        resultado = resultado - 10\n",
    "        print(resultado)\n",
    "    elif(resultado >= 21):\n",
    "        print(\"ESTOUROU\")\n",
    "\n",
    "num1 = int(input(\"Digite o valor do primeiro numero: \"))\n",
    "num2 = int(input(\"Digite o valor do segundo numero: \"))\n",
    "num3 = int(input(\"Digite o valor do terceiro numero: \"))\n",
    "if((num1 <= 11 and num1 >= 1) and (num2 <= 11 and num2 >= 1) and (num3 <= 11 and num3 >= 1)):\n",
    "    blackjack(num1,num2,num3)\n",
    "else:\n",
    "    print(\"Numero menor que 1 e maior que 11\")"
   ]
  },
  {
   "cell_type": "markdown",
   "metadata": {},
   "source": [
    "6 Espião: Escreva uma função que receba uma lista de\n",
    "inteiros e retorne True se contém um 007 em ordem, mesmo\n",
    "que não contínuo. Exemplo:\n",
    "espiao([1,2,4,0,0,7,5]) --> True\n",
    "espiao([1,0,2,4,0,5,7]) --> True\n",
    "espiao([1,7,2,4,0,5,0]) --> False"
   ]
  },
  {
   "cell_type": "code",
   "execution_count": 23,
   "metadata": {},
   "outputs": [
    {
     "name": "stdout",
     "output_type": "stream",
     "text": [
      "Achei o espião\n"
     ]
    }
   ],
   "source": [
    "def acha_espiao(lista):\n",
    "    estado = 'nada'\n",
    "    for element in lista:\n",
    "        if(element == 0 and estado == 'nada'):\n",
    "            estado = '0'\n",
    "        elif(estado == '0' and element == 0):\n",
    "            estado = '00'\n",
    "        elif(estado == '00' and element == 7):\n",
    "            print(\"Achei o espião\")\n",
    "            break\n",
    "    else:\n",
    "        print(\"Não encontrei o espião\")\n",
    "\n",
    "acha_espiao([1,0,0,7])"
   ]
  }
 ],
 "metadata": {
  "kernelspec": {
   "display_name": "Python 3",
   "language": "python",
   "name": "python3"
  },
  "language_info": {
   "codemirror_mode": {
    "name": "ipython",
    "version": 3
   },
   "file_extension": ".py",
   "mimetype": "text/x-python",
   "name": "python",
   "nbconvert_exporter": "python",
   "pygments_lexer": "ipython3",
   "version": "3.7.1"
  }
 },
 "nbformat": 4,
 "nbformat_minor": 2
}

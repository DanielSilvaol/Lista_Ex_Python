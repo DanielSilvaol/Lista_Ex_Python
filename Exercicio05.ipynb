{
  "cells": [
    {
      "cell_type": "markdown",
      "metadata": {
        "pycharm": {}
      },
      "source": [
        "**1 Linha:** Crie a classe Linha que tem dois atributos, coordenada1 e coordenada2.\n",
        "Cada coordenada é uma tupla que carrega duas coordenadas cartesianas (x,y) que\n",
        "denotam pontos do segmento de reta. Faça métodos que calculem o comprimento\n",
        "do segmento de reta e sua inclinação."
      ]
    },
    {
      "cell_type": "code",
      "execution_count": 13,
      "metadata": {
        "pycharm": {}
      },
      "outputs": [
        {
          "name": "stdout",
          "output_type": "stream",
          "text": [
            "7.211102550927978\n",
            "1.5\n"
          ]
        }
      ],
      "source": "import math\nclass Linha:\n    \n    def __init__(self, c1, c2):\n        self.coordenada1 \u003d c1\n        self.coordenada2 \u003d c2\n        \n    def calcularComprimento(self):\n        return math.sqrt((self.coordenada2[0] - self.coordenada1[0])**2 + (self.coordenada2[1] - self.coordenada1[1])**2)\n    \n    def calcularInclinacao(self):\n        return (self.coordenada2[1] - self.coordenada1[1]) / (self.coordenada2[0] - self.coordenada1[0])\n    \nlinha \u003d Linha((3, 2), (7, 8))\nprint(linha.calcularComprimento())\nprint(linha.calcularInclinacao())"
    },
    {
      "cell_type": "markdown",
      "metadata": {
        "pycharm": {}
      },
      "source": "**2 Figuras:** Crie a seguinte hierarquia de classes de figuras geométricas. Veja na figura\nas fórmulas   \n    a. A classe abstrata Figura deve ter o método abstrato area.\n    b. A classe concreta Circulo é subclasse de Figura.\n    c. A classe abstrata Poligono é subclasse de Figura e deve ter os atributos base e\n    altura .\n    d. As classes concretas Triangulo, Losango, Retangulo e Quadrado são subclasses\n    de Poligono. Tente criar mais uma generalização aqui olhando as fórmulas da área.\n    e. Os polígonos Retangulo e Quadrado devem implementar a interface Diagonal,\n    que deve ter um método que calcula a diagonal.\n    f. Crie uma classe Geometria com uma lista de Figuras com pelo menos uma\n    figura de cada e imprima suas áreas, perímetros e diagonais."
    },
    {
      "cell_type": "code",
      "execution_count": 1,
      "metadata": {
        "pycharm": {
          "is_executing": false
        }
      },
      "outputs": [
        {
          "name": "stdout",
          "text": [
            "\u003cclass \u0027__main__.Circulo\u0027\u003e\nÁrea:  314.1592653589793\nPerímetro: 62.83185307179586\n\n\u003cclass \u0027__main__.Triangulo\u0027\u003e\nÁrea:  25.0\nPerímetro: None\n\n\u003cclass \u0027__main__.Losango\u0027\u003e\nÁrea:  36.0\nPerímetro: 36\n\n\u003cclass \u0027__main__.Retangulo\u0027\u003e\nÁrea:  128\nPerímetro: 48\n\n\u003cclass \u0027__main__.Quadrado\u0027\u003e\nÁrea:  16\nPerímetro: 16\n\n"
          ],
          "output_type": "stream"
        }
      ],
      "source": [
        "from abc import ABC, abstractmethod\n",
        "import math\n",
        "class Figura(ABC):\n",
        "    \n",
        "    def __init__(self):\n",
        "        super().__init__()\n",
        "    \n",
        "    @abstractmethod\n",
        "    def area(self):\n",
        "        pass\n",
        "    \n",
        "    @abstractmethod\n",
        "    def perimetro(self):\n",
        "        pass\n",
        "    \n",
        "class Circulo(Figura):\n",
        "    \n",
        "    def __init__(self, raio):\n",
        "        self.raio \u003d raio\n",
        "        Figura.__init__(self)\n",
        "        \n",
        "    def area(self):\n",
        "        return math.pi * (self.raio**2)\n",
        "    \n",
        "    def perimetro(self):\n",
        "        return 2 * math.pi * self.raio\n",
        "        \n",
        "class Poligono(Figura, ABC):\n",
        "    \n",
        "    def __init__(self, base, altura):\n",
        "        self.base \u003d base\n",
        "        self.altura \u003d altura\n",
        "        Figura.__init__(self)\n",
        "        \n",
        "class Diagonal(ABC):\n",
        "    \n",
        "    def __init__(self):\n",
        "        super().__init__()\n",
        "        \n",
        "    def diagonal(self):\n",
        "        return math.sqrt((self.base**2) + (self.altura**2))\n",
        "        \n",
        "class Triangulo(Poligono):\n",
        "    \n",
        "    def __init__(self, base, altura):\n",
        "        super().__init__(base, altura)\n",
        "        \n",
        "    def area(self):\n",
        "        return (self.base * self.altura) / 2\n",
        "    \n",
        "    def perimetro(self):\n",
        "        #precisa dos lados\n",
        "        pass\n",
        "        \n",
        "class Losango(Poligono, Diagonal):\n",
        "    \n",
        "    def __init__(self, base, altura):\n",
        "        Poligono.__init__(self, base, altura)\n",
        "        Diagonal.__init__(self)\n",
        "        \n",
        "    def area(self):\n",
        "        return (self.base * self.altura) / 2\n",
        "    \n",
        "    def perimetro(self):\n",
        "        return self.base*2 + self.altura*2\n",
        "        \n",
        "class Retangulo(Poligono, Diagonal):\n",
        "    \n",
        "    def __init__(self, base, altura):\n",
        "        Poligono.__init__(self, base, altura)\n",
        "        Diagonal.__init__(self)\n",
        "        \n",
        "    def area(self):\n",
        "        return self.base * self.altura\n",
        "                         \n",
        "    def diagonal(self):\n",
        "        return math.sqrt((self.base**2) + (self.altura**2))\n",
        "    \n",
        "    def perimetro(self):\n",
        "        return self.base*2 + self.altura*2\n",
        "        \n",
        "class Quadrado(Poligono):\n",
        "    \n",
        "    def __init__(self, base, altura):\n",
        "        super().__init__(base, altura)\n",
        "        \n",
        "    def area(self):\n",
        "        return self.base * self.altura\n",
        "    \n",
        "    def perimetro(self):\n",
        "        return self.base*2 + self.altura*2\n",
        "    \n",
        "class Geometria:\n",
        "    \n",
        "    def __init__(self):\n",
        "        self.figuras \u003d [\n",
        "            Circulo(10),\n",
        "            Triangulo(5, 10),\n",
        "            Losango(6, 12),\n",
        "            Retangulo(16,8),\n",
        "            Quadrado(4, 4)\n",
        "        ]\n",
        "        \n",
        "geometria \u003d Geometria()\n",
        "for figura in geometria.figuras:\n",
        "    print(type(figura))\n",
        "    print(\"Área: \", figura.area())\n",
        "    print(\"Perímetro: \" + str(figura.perimetro()) + \"\\n\")\n",
        "        \n",
        "    "
      ]
    },
    {
      "cell_type": "markdown",
      "metadata": {
        "pycharm": {
          "name": "#%% md\n"
        }
      },
      "source": "3 Jogo de Blacjack: Faça um joguinho simples em Python.\nAqui estão os requisitos:\n- Você precisa criar um jogo de BlackJack (21) baseado em texto simples\n- O jogo precisa ter um jogador contra um croupier automatizado.\n- O jogador pode desistir ou bater.\n- O jogador deve ser capaz de escolher o seu valor de aposta.\n- Você precisa acompanhar o dinheiro total do jogador.\n- Você precisa alertar o jogador de vitórias, derrotas ou estouros, etc ...\nE o mais importante:\nVocê deve usar OOP e classes em alguma parte do seu jogo. Você não pode\nsimplesmente usar funções no seu jogo. Use classes para ajudá-lo a definir o deck e a\nmão do jogador. Há muitas maneiras certas de fazer isso, então explore bem!"
    },
    {
      "cell_type": "code",
      "execution_count": null,
      "outputs": [],
      "source": "import random\n\nclass Deck:\n    \n    def __init__(self):\n        valores \u003d [\u0027A\u0027, \u00272\u0027, \u00273\u0027, \u00274\u0027, \u00275\u0027, \u00276\u0027, \u00277\u0027, \u00278\u0027, \u00279\u0027, \u002710\u0027, \u0027J\u0027, \u0027Q\u0027, \u0027K\u0027]\n        naipes \u003d [\u0027paus\u0027, \u0027copas\u0027, \u0027ouros\u0027, \u0027espadas\u0027]\n        self.cartas \u003d [[y, x] for x in naipes for y in valores]\n        random.shuffle(self.cartas) \n        \n    def pop_carta(self):\n        return self.cartas.pop()\n\nclass MaoJogador:\n    \n    def __init__(self):\n        self.cartas \u003d []\n        \n    def adicionar_carta(self, carta):\n        return self.cartas.append(carta)\n    \n    def get_cartas(self):\n        return self.cartas\n    \n    def calcular_pontos(self):\n        valor_das_cartas_da_mao \u003d []\n        for i, carta in enumerate(self.cartas):\n            valor \u003d carta[0]\n            if valor \u003d\u003d \u0027A\u0027:\n                valor \u003d 11\n            elif valor in \u0027JQK\u0027:\n                valor \u003d 10\n            valor_das_cartas_da_mao.append(int(valor))\n        valor_total \u003d sum(valor_das_cartas_da_mao)\n        if valor_total \u003e 21:\n            for i, carta in enumerate(self.cartas):\n                if carta \u003d\u003d \u0027A\u0027:\n                    valor_das_cartas_da_mao[i] \u003d 1\n        return sum(valor_das_cartas_da_mao)\n            \n\nresposta \u003d -1\ndinheiro \u003d float(input(\u0027Digite a quantidade total de dinheiro: \u0027))\ndinheiro_inicial \u003d dinheiro\nopcao \u003d 1\nwhile opcao !\u003d 0 and dinheiro \u003e 0:\n    if opcao \u003d\u003d 1:\n        aposta \u003d float(input(\u0027Digite o valor da aposta: \u0027))\n        while aposta \u003e dinheiro:\n            aposta \u003d float(input(\u0027Digite um valor de aposta menor ou igual ao seu dinheiro: \u0027))\n            \n        deck \u003d Deck()\n        dealer_hand \u003d MaoJogador()\n        mao_jogador \u003d MaoJogador()\n        \n        for i in range(2):\n            dealer_hand.adicionar_carta(deck.pop_carta())\n            mao_jogador.adicionar_carta(deck.pop_carta())\n            \n        print(f\u0027O Coupier tem a seguinte carta: {dealer_hand.get_cartas()[0]}\u0027)\n        print(f\u0027Suas cartas são: {mao_jogador.get_cartas()}\u0027)\n        while opcao \u003d\u003d 1:            \n            opcao \u003d int(input(\u0027\\nO que deseja fazer?,\\n0 - Permanecer do modo que está,\\n1 - Pedir mais uma carta\\n2 - Desistir\\n\u0027))\n            if opcao \u003d\u003d 0:\n                print(f\u0027\\nMão completa do Coupier: {dealer_hand.get_cartas()}\u0027)\n                dealer_hand_pontos \u003d dealer_hand.calcular_pontos()\n                mao_jogador_pontos \u003d mao_jogador.calcular_pontos()\n                if mao_jogador_pontos \u003c dealer_hand_pontos:\n                    mensagem \u003d \u0027Você perdeu, o\u0027\n                    dinheiro -\u003d aposta\n                elif mao_jogador_pontos \u003e dealer_hand_pontos:\n                    mensagem \u003d \u0027Você ganhou! O\u0027\n                    dinheiro +\u003d aposta\n                else:\n                    mensagem \u003d \u0027Empate. O\u0027\n                print(mensagem, f\u0027dealer tinha {dealer_hand_pontos} pontos e você tinha {mao_jogador_pontos} pontos\u0027)\n            elif opcao \u003d\u003d 1:\n              mao_jogador.adicionar_carta(deck.pop_carta())\n              pontuacao \u003d mao_jogador.calcular_pontos()\n              print(f\u0027\\nSua mão: {mao_jogador.get_cartas()}\u0027)\n              print(f\u0027Pontuação: {pontuacao}\u0027)\n              if pontuacao \u003e 21:\n                print(f\u0027Voce estourou com {pontuacao} pontos\u0027)\n                dinheiro -\u003d aposta\n                opcao \u003d 0\n            elif opcao \u003d\u003d 2:\n              dinheiro -\u003d aposta/2         \n    elif opcao \u003d\u003d 2:\n        dinheiro +\u003d float(input(\u0027Digite o valor que deseja acrescentar: \u0027))\n        \n    print(f\u0027\\nDinheiro atual: R${dinheiro}\u0027)\n    opcao \u003d int(input(\u0027\\nO que deseja fazer?\\n1 - Jogar mais uma\\n2- Colocar mais dinheiro\\n0 - Sair\\n\u0027))\n    \n                  \n                  \n                  \nprint(f\u0027Você começou com R${dinheiro_inicial} e terminou com R${dinheiro}, sendo assim seu lucro foi de R${dinheiro - dinheiro_inicial}\u0027)\n",
      "metadata": {
        "pycharm": {
          "metadata": false,
          "name": "#%%\n"
        }
      }
    }
  ],
  "metadata": {
    "kernelspec": {
      "display_name": "Python 3",
      "language": "python",
      "name": "python3"
    },
    "language_info": {
      "codemirror_mode": {
        "name": "ipython",
        "version": 3
      },
      "file_extension": ".py",
      "mimetype": "text/x-python",
      "name": "python",
      "nbconvert_exporter": "python",
      "pygments_lexer": "ipython3",
      "version": "3.7.1"
    }
  },
  "nbformat": 4,
  "nbformat_minor": 2
}
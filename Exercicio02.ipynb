{
 "cells": [
  {
   "cell_type": "markdown",
   "metadata": {},
   "source": [
    "1 Crie um programa que recebe uma lista de números e\n",
    "- retorne o maior elemento\n",
    "- retorne a soma dos elementos\n",
    "- retorne o número de ocorrências do primeiro elemento da lista\n",
    "- retorne a média dos elementos\n",
    "- retorne o valor mais próximo da média dos elementos\n",
    "- retorne a soma dos elementos com valor negativo\n",
    "- retorne a quantidade de vizinhos iguais"
   ]
  },
  {
   "cell_type": "code",
   "execution_count": 1,
   "metadata": {},
   "outputs": [
    {
     "name": "stdout",
     "output_type": "stream",
     "text": [
      "Digite um numero maior que 0.(Obs. Se quiser para de digitar digite 0.): 0\n",
      "\n",
      "O maior numero da lista é: 0\n",
      "A Soma dos numeros da lista é: 0\n",
      "0\n"
     ]
    }
   ],
   "source": [
    "num = int(input(\"Digite um numero maior que 0.(Obs. Se quiser para de digitar digite 0.): \"))\n",
    "lista = []\n",
    "while(num!=0):\n",
    "    lista += [num]\n",
    "    num = int(input(\"Digite um numero maior que 0.(Obs. Se quiser para de digitar digite 0.): \"))\n",
    "\n",
    "maior_num = 0\n",
    "soma_da_lista = 0\n",
    "soma_da_lista_negativo = 0\n",
    "quantidade_negativos = 0\n",
    "ocorrencia_num = 0\n",
    "valor_min = 100\n",
    "valor_max = 0\n",
    "valor_proxMedia = 0 \n",
    "for lista_num in lista:\n",
    "    soma_da_lista += lista_num\n",
    "    if(lista_num > maior_num):\n",
    "        maior_num = lista_num\n",
    "    if(lista[0] == lista_num):\n",
    "        ocorrencia_num += 1\n",
    "    if(lista_num < 0):\n",
    "        soma_da_lista_negativo += lista_num\n",
    "        quantidade_negativos += 1\n",
    "            \n",
    "quantidade_de_numeros = len(lista)\n",
    "\n",
    "if(quantidade_negativos!=0):\n",
    "    media_negativa = soma_da_lista_negativo / quantidade_negativos\n",
    "\n",
    "    \n",
    "    \n",
    "\n",
    "    \n",
    "    \n",
    "    \n",
    "print(\"\\nO maior numero da lista é: {}\".format(maior_num))\n",
    "print(\"A Soma dos numeros da lista é: {}\".format(soma_da_lista))\n",
    "if(lista != []):\n",
    "    print(\"Quantidade de ocorrência do numero {}: {}\".format(lista[0],ocorrencia_num))\n",
    "    \n",
    "if(quantidade_de_numeros!=0):\n",
    "    media = soma_da_lista / quantidade_de_numeros\n",
    "    print(\"A media dos numeros da lista é: {}\".format(media))\n",
    "    \n",
    "if(quantidade_negativos!=0):\n",
    "    media_negativa = soma_da_lista_negativo / quantidade_negativos\n",
    "    print(\"A media dos numeros negativos da lista é: {}\".format(media_negativa))\n",
    "    \n",
    "print(valor_proxMedia)"
   ]
  },
  {
   "cell_type": "markdown",
   "metadata": {},
   "source": [
    "2 Faça um programa que receba duas listas e retorne True se são iguais ou False caso\n",
    "contrario.\n",
    "Duas listas são iguais se possuem os mesmos valores e na mesma ordem."
   ]
  },
  {
   "cell_type": "code",
   "execution_count": null,
   "metadata": {},
   "outputs": [],
   "source": [
    "num1 = int(input(\"Digite um numero maior que 0.(Obs. Se quiser para de digitar digite 0.): \"))\n",
    "lista1 = []\n",
    "while(num1!=0):\n",
    "    lista1 += [num1]\n",
    "    num1 = int(input(\"Digite um numero maior que 0.(Obs. Se quiser para de digitar digite 0.): \"))\n",
    "    \n",
    "num2 = int(input(\"Digite um numero maior que 0.(Obs. Se quiser para de digitar digite 0.): \"))\n",
    "lista2 = []\n",
    "while(num2!=0):\n",
    "    lista2 += [num2]\n",
    "    num2 = int(input(\"Digite um numero maior que 0.(Obs. Se quiser para de digitar digite 0.): \"))    \n",
    "\n",
    "num = 0\n",
    "validar = False\n",
    "if(len(lista1) == len(lista2)):\n",
    "    for comparar in lista1:\n",
    "        if(comparar == lista2[num]):\n",
    "            validar = True\n",
    "        else:\n",
    "            validar = False\n",
    "        num += 1\n",
    "\n",
    "print(validar)"
   ]
  },
  {
   "cell_type": "markdown",
   "metadata": {},
   "source": [
    "3 Faça um programa que receba duas listas e retorne True se têm os mesmos\n",
    "elementos ou False caso contrário\n",
    "Duas listas possuem os mesmos elementos quando são compostas pelos mesmos\n",
    "valores, mas não obrigatoriamente na mesma ordem."
   ]
  },
  {
   "cell_type": "code",
   "execution_count": null,
   "metadata": {},
   "outputs": [],
   "source": [
    "num1 = int(input(\"Digite um numero maior que 0.(Obs. Se quiser para de digitar digite 0.): \"))\n",
    "lista1 = []\n",
    "while(num1!=0):\n",
    "    lista1 += [num1]\n",
    "    num1 = int(input(\"Digite um numero maior que 0.(Obs. Se quiser para de digitar digite 0.): \"))\n",
    "    \n",
    "num2 = int(input(\"Digite um numero maior que 0.(Obs. Se quiser para de digitar digite 0.): \"))\n",
    "lista2 = []\n",
    "while(num2!=0):\n",
    "    lista2 += [num2]\n",
    "    num2 = int(input(\"Digite um numero maior que 0.(Obs. Se quiser para de digitar digite 0.): \"))    \n",
    "\n",
    "num = len(lista1)\n",
    "num_val = 0\n",
    "validar = False\n",
    "if(len(lista1) == len(lista2)):\n",
    "    for lista_primeira in lista1:\n",
    "        for lista_segunda in lista2:\n",
    "            if(lista_primeira == lista_segunda):\n",
    "                validar = True\n",
    "            num_val += 1\n",
    "            if(num_val == num):\n",
    "                validar = False\n",
    "\n",
    "print(validar)"
   ]
  },
  {
   "cell_type": "markdown",
   "metadata": {},
   "source": [
    "4 Faça um programa que percorre uma lista com o seguinte formato: [['Brasil',\n",
    "'Italia', [10, 9]], ['Brasil', 'Espanha', [5, 7]], ['Italia', 'Espanha', [7,8]]]. Essa lista indica o\n",
    "número de faltas que cada time fez em cada jogo. Na lista acima, no jogo entre Brasil\n",
    "e Itália, o Brasil fez 10 faltas e a Itália fez 9.\n",
    "O programa deve imprimir na tela:\n",
    "- o total de faltas do campeonato\n",
    "- o time que fez mais faltas\n",
    "- o time que fez menos faltas"
   ]
  },
  {
   "cell_type": "code",
   "execution_count": 2,
   "metadata": {},
   "outputs": [
    {
     "name": "stdout",
     "output_type": "stream",
     "text": [
      "O total de faltas foi: 46\n",
      "A maior falta foi: 10\n",
      "A menor falta: 5\n",
      "\n",
      "O time com maior faltas foi: Brasil\n",
      "O time com menor faltas foi: Brasil\n",
      "\n",
      "{'Brasil': 15, 'Italia': 16, 'Espanha': 15}\n"
     ]
    }
   ],
   "source": [
    "jogos = [['Brasil','Italia',[10,9]],['Brasil','Espanha',[5,7]],['Italia','Espanha',[7,8]]]\n",
    "total_faltas = 0\n",
    "time_maior_falta = \"\"\n",
    "time_menor_falta = \"\"\n",
    "maior_falta = 0\n",
    "menor_falta = 0\n",
    "lista = []\n",
    "\n",
    "for jogo in jogos:\n",
    "    total_faltas += jogo[2][0]\n",
    "    total_faltas += jogo[2][1]\n",
    "    \n",
    "    lista += jogo[2]\n",
    "    \n",
    "    for lista_num in lista:\n",
    "        if(lista_num > maior_falta):\n",
    "            maior_falta = lista_num\n",
    "        \n",
    "        \n",
    "    menor_falta = maior_falta\n",
    "    for lista_menor in lista:\n",
    "        if(lista_menor < menor_falta):\n",
    "            menor_falta = lista_menor\n",
    "        \n",
    "    if(jogo[2][0] == maior_falta):\n",
    "        time_maior_falta = jogo[0]\n",
    "    elif (jogo[2][1] == maior_falta):\n",
    "        time_maior_falta = jogo[1]\n",
    "    \n",
    "    if(jogo[2][0] == menor_falta):\n",
    "        time_menor_falta = jogo[0]\n",
    "    elif (jogo[2][1] == menor_falta):\n",
    "        time_menor_falta = jogo[1]\n",
    "        \n",
    "print(\"O total de faltas foi: {}\".format(total_faltas))\n",
    "print(\"A maior falta foi: {}\".format(maior_falta))\n",
    "print(\"A menor falta: {}\".format(menor_falta))\n",
    "\n",
    "print(\"\\nO time com maior faltas foi: {}\".format(time_maior_falta))\n",
    "print(\"O time com menor faltas foi: {}\\n\".format(time_menor_falta))\n",
    "\n",
    "\n",
    "\n",
    "d = {}\n",
    "\n",
    "for jogo in jogos:\n",
    "    d[jogo[0]]= 0\n",
    "    d[jogo[1]] = 0\n",
    "\n",
    "for jogo in jogos:\n",
    "    d[jogo[0]] += jogo[2][0]\n",
    "    d[jogo[1]] += jogo[2][1]\n",
    "print(d)"
   ]
  },
  {
   "cell_type": "markdown",
   "metadata": {},
   "source": [
    "5 Escreva um programa que conta a quantidade de vogais em uma string\n",
    "e armazena tal quantidade em um dicionário, \n",
    "onde a chave é a vogal considerada."
   ]
  },
  {
   "cell_type": "code",
   "execution_count": null,
   "metadata": {},
   "outputs": [],
   "source": [
    "dicionario ={'a':0,'e':0,'i':0,'o':0,'u':0}\n",
    "\n",
    "frase = input(\"Digite uma frase: \").lower()\n",
    "\n",
    "for v in frase:\n",
    "    if(v == 'a'):\n",
    "        dicionario[v] = frase.count(v)\n",
    "    elif(v == 'e'):\n",
    "        dicionario[v] = frase.count(v)\n",
    "    elif(v == 'i'):\n",
    "        dicionario[v] = frase.count(v)\n",
    "    elif(v == 'o'):\n",
    "        dicionario[v] = frase.count(v)\n",
    "    elif(v == 'u'):\n",
    "        dicionario[v] = frase.count(v)\n",
    "dicionario"
   ]
  },
  {
   "cell_type": "markdown",
   "metadata": {},
   "source": [
    "6 Escreva um programa que lê duas notas de vários alunos e armazena tais notas em um dicionário, onde a chave é o nome do aluno.\n",
    "A entrada de dados deve terminar\n",
    "quando for lida uma string vazia como nome. Escreva uma função que retorna a\n",
    "média do aluno, dado seu nome."
   ]
  },
  {
   "cell_type": "code",
   "execution_count": null,
   "metadata": {},
   "outputs": [],
   "source": [
    "nome_aluno = input(\"Digite o nome do aluno: \")\n",
    "num1 = int(input(\"Digite a primeira nota do aluno : \"))\n",
    "num2 = int(input(\"Digite a segunda nota do aluno: \"))\n",
    "dicionario = {}\n",
    "lista = []\n",
    "media = 0\n",
    "aux = 0\n",
    "while(nome_aluno!=\"\"):\n",
    "    lista = [num1,num2]\n",
    "    \n",
    "    dicionario[nome_aluno] = lista\n",
    "    \n",
    "    nome_aluno = input(\"Digite o nome do aluno: \")\n",
    "    \n",
    "    if(nome_aluno!=\"\"):\n",
    "        num1 = int(input(\"Digite a primeira nota do aluno: \"))\n",
    "        num2 = int(input(\"Digite a segunda nota do aluno: \"))\n",
    "        dicionario[nome_aluno] = lista\n",
    "\n",
    "\n",
    "for var in dicionario.keys():\n",
    "    for avg in dicionario[var]:\n",
    "        aux += avg\n",
    "        media = aux/2\n",
    "    aux = 0\n",
    "    print(\"{}: {}\".format(var, media))"
   ]
  },
  {
   "cell_type": "markdown",
   "metadata": {},
   "source": [
    "7 Uma pista de Kart permite 10 voltas para cada um de 6 corredores. Escreva um\n",
    "programa que leia todos os tempos em segundos e os guarde em um dicionário,\n",
    "onde a chave é o nome do corredor. \n",
    "Ao final diga de quem foi a melhor volta da prova e em que volta; e ainda a classificação final em ordem (1o\n",
    " o campeão). O campeão é o que tem a menor média de tempos."
   ]
  },
  {
   "cell_type": "code",
   "execution_count": null,
   "metadata": {},
   "outputs": [],
   "source": [
    "dicionario = {\"Daniel\":[30,70,80,90,100,90,80,70,60,50],\n",
    "              \"João\":[40,60,50,40,30,20,80,60,90,80],\n",
    "             \"Cleber\":[30,70,70,90,100,80,70,70,60,60],\n",
    "             \"Julho\":[50,70,80,30,100,60,80,60,60,70],\n",
    "             \"Adilson\":[60,40,40,90,60,90,80,50,80,90],\n",
    "             \"Pedro\":[90,70,80,40,50,90,80,70,30,40]}\n",
    "menor_tempo = 100\n",
    "volta = 0\n",
    "qual_volta = 0\n",
    "qual_participante = \"\"\n",
    "lista = []\n",
    "restriter = 0\n",
    "i = 0\n",
    "for cont in range(6):\n",
    "    for var in dicionario.keys():\n",
    "        for tempo in dicionario[var]:\n",
    "            volta += 1\n",
    "            if(tempo < menor_tempo):\n",
    "                    menor_tempo =tempo\n",
    "                    qual_participante = var\n",
    "                    qual_volta = volta\n",
    "        volta = 0\n",
    "    if(restriter == 0):\n",
    "        restriter = 1\n",
    "        print(\"O participante com menor tempo é: {}.\\nO menor tempo é: {}, na volta: {}.\".format(qual_participante,menor_tempo,qual_volta))\n",
    "    lista += [qual_participante]\n",
    "    menor_tempo = 100\n",
    "    del(dicionario[qual_participante])\n",
    "    \n",
    "for var in lista:\n",
    "    i += 1\n",
    "    print(\"{} {}ª lugar\".format(var,i))\n",
    "    \n"
   ]
  },
  {
   "cell_type": "markdown",
   "metadata": {},
   "source": [
    "8 Escreva um programa para armazenar uma agenda de telefones em um dicionário.\n",
    "Cada pessoa pode ter um ou mais telefones e a chave do dicionário é o nome da pessoa.\n",
    "Seu programa deve ter as seguintes funções: incluirNovoNome – essa função acrescenta um novo nome na agenda, com um ou mais telefones.\n",
    "Ela deve receber como argumentos o nome e os telefones. incluirTelefone – essa função acrescenta um telefone em um nome existente na agenda.\n",
    "Caso o nome não exista na agenda, voc deve perguntar se a pessoa deseja ê̂ duas notas de vários alunos e armazena tais notas em inclui-lo.\n",
    "Caso a resposta seja afirmativa, use a função anterior para incluir o novo nome. excluirTelefone – essa função exclui um telefone de uma pessoa que já está na agenda.\n",
    "Se a pessoa tiver apenas um telefone, ela deve ser excluída da agenda.\n",
    " excluirNome – essa função exclui uma pessoa da agenda. consultarTelefone – essa função retorna os telefones de uma pessoa na agenda"
   ]
  },
  {
   "cell_type": "code",
   "execution_count": null,
   "metadata": {},
   "outputs": [],
   "source": [
    "option = \"add\"\n",
    "add_telefone = 0\n",
    "telefone = 0\n",
    "lista = []\n",
    "dicionario = {}\n",
    "\n",
    "while(option != \"x\"):\n",
    "    \n",
    "    if(option == \"add\"):\n",
    "        add_telefone = \"\"\n",
    "        lista = []\n",
    "        nome = input(\"Digite o nome do contato: \")\n",
    "\n",
    "        while(add_telefone != \"n\"):\n",
    "            telefone = int(input(\"Digite o numero do contato: \"))\n",
    "            add_telefone = input(\"Adicionar mais algum numero?\\n(Digite: N para sair e S para continuar): \").lower()\n",
    "            lista += [telefone]\n",
    "            dicionario[nome] = lista\n",
    "    if(option == \"addnum\"):\n",
    "        nome = input(\"Digite o nome do contato: \")\n",
    "        telefone = int(input(\"Digite o numero do contato: \"))\n",
    "        add_telefone = input(\"Adicionar mais algum numero?\\n(Digite: N para sair e S para continuar): \").lower()\n",
    "        lista += [telefone]\n",
    "        dicionario[nome] = lista\n",
    "        \n",
    "    if(option == \"excluir\"):\n",
    "        nome = input(\"Digite o nome do contato: \")\n",
    "        del(dicionario[nome])\n",
    "        \n",
    "    if(option == \"mostrar\"):\n",
    "        print(\"\\nSeus contatos são: \")\n",
    "        for i in dicionario.keys():\n",
    "            print(\"\\nNome: {}\".format(i))\n",
    "            for j in dicionario[i]:\n",
    "                print(\"Numero: {}\".format(j))\n",
    "        \n",
    "    option = input(\"\\nMostrar agenda?\\nDigite 'mostrar'\\nAdicionar mais algum contato?\\nDigite: 'add' para continuar\\n\\nDeseja adicionar mais um contato?\\nDigite 'addnum' para continuar\\n\\nDeseja excluir um contato?\\nDigite 'excluir'\\n\\nFinalizar o programa?Digite 'x'\\n\\nVocê digitou: \").lower()"
   ]
  },
  {
   "cell_type": "code",
   "execution_count": 1,
   "metadata": {},
   "outputs": [
    {
     "name": "stdout",
     "output_type": "stream",
     "text": [
      "Writing ips.txt\n"
     ]
    }
   ],
   "source": [
    "%%writefile ips.txt\n",
    "200.135.80.9\n",
    "192.168.1.1\n",
    "8.35.67.74\n",
    "257.32.4.5\n",
    "85.345.1.2\n",
    "1.2.3.4\n",
    "9.8.234.5\n",
    "192.168.0.256"
   ]
  },
  {
   "cell_type": "markdown",
   "metadata": {},
   "source": [
    "9 Faça um programa que leia um arquivo texto contendo uma lista de endereços IP e\n",
    "gere um outro arquivo, contendo um relatório dos endereços IP válidos e inválidos.\n",
    "O arquivo de entrada possui o seguinte formato:"
   ]
  },
  {
   "cell_type": "code",
   "execution_count": 5,
   "metadata": {},
   "outputs": [],
   "source": [
    "import socket\n",
    "\n",
    "ipsValidos = []\n",
    "ipsInvalidos = []\n",
    "\n",
    "ips = open(\"ips.txt\")\n",
    "for ip in ips:\n",
    "    try:\n",
    "        socket.inet_aton(ip)\n",
    "        # Validos\n",
    "        ipsValidos.append(ip)\n",
    "    except socket.error:\n",
    "        # Invalidos\n",
    "        ipsInvalidos.append(ip)\n",
    "        \n",
    "ips.close()\n",
    "\n",
    "saida = open(\"ipsvalidados.txt\", \"w+\")\n",
    "\n",
    "saida.write(\"[Endereços válidos:]\\n\")\n",
    "for ip in ipsValidos:\n",
    "    saida.write(ip)\n",
    "    \n",
    "saida.write(\"[Endereços inválidos:]\\n\")\n",
    "for ip in ipsInvalidos:\n",
    "    saida.write(ip)\n",
    "    \n",
    "saida.close()"
   ]
  },
  {
   "cell_type": "markdown",
   "metadata": {},
   "source": [
    "10 A ACME Inc., uma empresa de 500 funcionários, está tendo problemas de espaço\n",
    "em disco no seu servidor de arquivos. Para tentar resolver este problema, o\n",
    "Administrador de Rede precisa saber qual o espaço ocupado pelos usuários, e\n",
    "identificar os usuários com maior espaço ocupado. Através de um programa, baixado\n",
    "da Internet, ele conseguiu gerar o seguinte arquivo, chamado \"usuarios.txt\":"
   ]
  },
  {
   "cell_type": "code",
   "execution_count": 6,
   "metadata": {},
   "outputs": [
    {
     "name": "stdout",
     "output_type": "stream",
     "text": [
      "Writing usuarios.txt\n"
     ]
    }
   ],
   "source": [
    "%%writefile usuarios.txt\n",
    "victor 123456789\n",
    "daniel 987654321\n",
    "shalom 123456456\n",
    "samuel 91257581"
   ]
  },
  {
   "cell_type": "code",
   "execution_count": 12,
   "metadata": {},
   "outputs": [],
   "source": [
    "def paraMb(tamanho):\n",
    "    return float(tamanho / (1024*1024))\n",
    "\n",
    "def usoMemoria(tamanho, total):\n",
    "    return float(tamanho / total) * 100\n",
    "\n",
    "dic = {}\n",
    "total = 0 \n",
    "usuario = open(\"usuarios.txt\")\n",
    "for usuarios in usuario:\n",
    "    nome,memoria = usuarios.split(\" \")\n",
    "    dic[nome] = int(memoria)\n",
    "    total += int(memoria)\n",
    "usuario.close()\n",
    "media =total / len(dic.keys())\n",
    "\n",
    "relatorio = open(\"relatorio.txt\",\"w+\")\n",
    "relatorio.write(\"Acme Inc.                              Uso do espaço em disco pelos usuarios.\\n\")\n",
    "relatorio.write(\"------------------------------------------------------------------------------\\n\")\n",
    "relatorio.write(\"\\n.\\tUsuario \\tEspaço utilizado \\t% do uso\\n\")\n",
    "\n",
    "nr = 1\n",
    "\n",
    "for usuario in dic:\n",
    "    relatorio.write(str(nr) + \"\\t\" + usuario + \"\\t\" + \"{0:.2f}\".format(paraMb(dic[usuario])) + \" MB\\t\\t\" + \"{0:.2f}\".format(usoMemoria(dic[usuario], total)) + \"%\\n\")\n",
    "    nr += 1\n",
    "    \n",
    "relatorio.write(\"Espaço total ocupado \" + \"{0:.2f}\".format(paraMb(total))+\"\\n\")\n",
    "relatorio.write(\"Espaço medio ocupado \" + \"{0:.2f}\".format(paraMb(media)))\n",
    "\n",
    "relatorio.close()"
   ]
  }
 ],
 "metadata": {
  "kernelspec": {
   "display_name": "Python 3",
   "language": "python",
   "name": "python3"
  },
  "language_info": {
   "codemirror_mode": {
    "name": "ipython",
    "version": 3
   },
   "file_extension": ".py",
   "mimetype": "text/x-python",
   "name": "python",
   "nbconvert_exporter": "python",
   "pygments_lexer": "ipython3",
   "version": "3.7.1"
  }
 },
 "nbformat": 4,
 "nbformat_minor": 2
}

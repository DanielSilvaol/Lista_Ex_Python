{
  "cells": [
    {
      "cell_type": "markdown",
      "metadata": {
        "pycharm": {}
      },
      "source": "1 Crie um programa que recebe uma lista de números e\n- retorne o maior elemento\n- retorne a soma dos elementos\n- retorne o número de ocorrências do primeiro elemento da lista\n- retorne a média dos elementos\n- retorne o valor mais próximo da média dos elementos\n- retorne a soma dos elementos com valor negativo\n- retorne a quantidade de vizinhos iguais\n"
    },
    {
      "cell_type": "code",
      "execution_count": 1,
      "metadata": {
        "pycharm": {
          "is_executing": false
        }
      },
      "outputs": [
        {
          "name": "stdout",
          "text": [
            "\nO maior numero da lista é: 2\nA Soma dos numeros da lista é: 3\nQuantidade de ocorrência do numero 1: 1\nA media dos numeros da lista é: 1.5\n0\n"
          ],
          "output_type": "stream"
        }
      ],
      "source": "num \u003d int(input(\"Digite um numero maior que 0.(Obs. Se quiser para de digitar digite 0.): \"))\nlista \u003d []\nwhile(num!\u003d0):\n    lista +\u003d [num]\n    num \u003d int(input(\"Digite um numero maior que 0.(Obs. Se quiser para de digitar digite 0.): \"))\n\nmaior_num \u003d 0\nsoma_da_lista \u003d 0\nsoma_da_lista_negativo \u003d 0\nquantidade_negativos \u003d 0\nocorrencia_num \u003d 0\nvalor_min \u003d 100\nvalor_max \u003d 0\nvalor_proxMedia \u003d 0 \nfor lista_num in lista:\n    soma_da_lista +\u003d lista_num\n    if(lista_num \u003e maior_num):\n        maior_num \u003d lista_num\n    if(lista[0] \u003d\u003d lista_num):\n        ocorrencia_num +\u003d 1\n    if(lista_num \u003c 0):\n        soma_da_lista_negativo +\u003d lista_num\n        quantidade_negativos +\u003d 1\n            \nquantidade_de_numeros \u003d len(lista)\n\nif(quantidade_negativos!\u003d0):\n    media_negativa \u003d soma_da_lista_negativo / quantidade_negativos\n\n    \n    \n\n    \n    \n    \nprint(\"\\nO maior numero da lista é: {}\".format(maior_num))\nprint(\"A Soma dos numeros da lista é: {}\".format(soma_da_lista))\nif(lista !\u003d []):\n    print(\"Quantidade de ocorrência do numero {}: {}\".format(lista[0],ocorrencia_num))\n    \nif(quantidade_de_numeros!\u003d0):\n    media \u003d soma_da_lista / quantidade_de_numeros\n    print(\"A media dos numeros da lista é: {}\".format(media))\n    \nif(quantidade_negativos!\u003d0):\n    media_negativa \u003d soma_da_lista_negativo / quantidade_negativos\n    print(\"A media dos numeros negativos da lista é: {}\".format(media_negativa))\n    \nprint(valor_proxMedia)\n"
    },
    {
      "cell_type": "markdown",
      "metadata": {
        "pycharm": {}
      },
      "source": [
        "2 Faça um programa que receba duas listas e retorne True se são iguais ou False caso\n",
        "contrario.\n",
        "Duas listas são iguais se possuem os mesmos valores e na mesma ordem."
      ]
    },
    {
      "cell_type": "code",
      "execution_count": null,
      "metadata": {
        "pycharm": {}
      },
      "outputs": [],
      "source": "num1 \u003d int(input(\"Digite um numero maior que 0.(Obs. Se quiser para de digitar digite 0.): \"))\nlista1 \u003d []\nwhile(num1!\u003d0):\n    lista1 +\u003d [num1]\n    num1 \u003d int(input(\"Digite um numero maior que 0.(Obs. Se quiser para de digitar digite 0.): \"))\n    \nnum2 \u003d int(input(\"Digite um numero maior que 0.(Obs. Se quiser para de digitar digite 0.): \"))\nlista2 \u003d []\nwhile(num2!\u003d0):\n    lista2 +\u003d [num2]\n    num2 \u003d int(input(\"Digite um numero maior que 0.(Obs. Se quiser para de digitar digite 0.): \"))    \n\nnum \u003d 0\nvalidar \u003d False\nif(len(lista1) \u003d\u003d len(lista2)):\n    for comparar in lista1:\n        if(comparar \u003d\u003d lista2[num]):\n            validar \u003d True\n        else:\n            validar \u003d False\n        num +\u003d 1\n\nprint(validar)\n"
    },
    {
      "cell_type": "markdown",
      "metadata": {
        "pycharm": {}
      },
      "source": "3 Faça um programa que receba duas listas e retorne True se têm os mesmos\nelementos ou False caso contrário\nDuas listas possuem os mesmos elementos quando são compostas pelos mesmos\nvalores, mas não obrigatoriamente na mesma ordem.\n"
    },
    {
      "cell_type": "code",
      "execution_count": 2,
      "metadata": {
        "pycharm": {
          "is_executing": false
        }
      },
      "outputs": [
        {
          "name": "stdout",
          "text": [
            "False\n"
          ],
          "output_type": "stream"
        }
      ],
      "source": "num1 \u003d int(input(\"Digite um numero maior que 0.(Obs. Se quiser para de digitar digite 0.): \"))\nlista1 \u003d []\nwhile(num1!\u003d0):\n    lista1 +\u003d [num1]\n    num1 \u003d int(input(\"Digite um numero maior que 0.(Obs. Se quiser para de digitar digite 0.): \"))\n    \nnum2 \u003d int(input(\"Digite um numero maior que 0.(Obs. Se quiser para de digitar digite 0.): \"))\nlista2 \u003d []\nwhile(num2!\u003d0):\n    lista2 +\u003d [num2]\n    num2 \u003d int(input(\"Digite um numero maior que 0.(Obs. Se quiser para de digitar digite 0.): \"))    \n\nnum \u003d len(lista1)\nnum_val \u003d 0\nvalidar \u003d False\nif(len(lista1) \u003d\u003d len(lista2)):\n    for lista_primeira in lista1:\n        for lista_segunda in lista2:\n            if(lista_primeira \u003d\u003d lista_segunda):\n                validar \u003d True\n            num_val +\u003d 1\n            if(num_val \u003d\u003d num):\n                validar \u003d False\n\nprint(validar)\n"
    },
    {
      "cell_type": "markdown",
      "metadata": {
        "pycharm": {}
      },
      "source": [
        "4 Faça um programa que percorre uma lista com o seguinte formato: [[\u0027Brasil\u0027,\n",
        "\u0027Italia\u0027, [10, 9]], [\u0027Brasil\u0027, \u0027Espanha\u0027, [5, 7]], [\u0027Italia\u0027, \u0027Espanha\u0027, [7,8]]]. Essa lista indica o\n",
        "número de faltas que cada time fez em cada jogo. Na lista acima, no jogo entre Brasil\n",
        "e Itália, o Brasil fez 10 faltas e a Itália fez 9.\n",
        "O programa deve imprimir na tela:\n",
        "- o total de faltas do campeonato\n",
        "- o time que fez mais faltas\n",
        "- o time que fez menos faltas"
      ]
    },
    {
      "cell_type": "code",
      "execution_count": 2,
      "metadata": {
        "pycharm": {}
      },
      "outputs": [
        {
          "name": "stdout",
          "output_type": "stream",
          "text": [
            "O total de faltas foi: 46\n",
            "A maior falta foi: 10\n",
            "A menor falta: 5\n",
            "\n",
            "O time com maior faltas foi: Brasil\n",
            "O time com menor faltas foi: Brasil\n",
            "\n",
            "{\u0027Brasil\u0027: 15, \u0027Italia\u0027: 16, \u0027Espanha\u0027: 15}\n"
          ]
        }
      ],
      "source": "jogos \u003d [[\u0027Brasil\u0027,\u0027Italia\u0027,[10,9]],[\u0027Brasil\u0027,\u0027Espanha\u0027,[5,7]],[\u0027Italia\u0027,\u0027Espanha\u0027,[7,8]]]\ntotal_faltas \u003d 0\ntime_maior_falta \u003d \"\"\ntime_menor_falta \u003d \"\"\nmaior_falta \u003d 0\nmenor_falta \u003d 0\nlista \u003d []\n\nfor jogo in jogos:\n    total_faltas +\u003d jogo[2][0]\n    total_faltas +\u003d jogo[2][1]\n    \n    lista +\u003d jogo[2]\n    \n    for lista_num in lista:\n        if(lista_num \u003e maior_falta):\n            maior_falta \u003d lista_num\n        \n        \n    menor_falta \u003d maior_falta\n    for lista_menor in lista:\n        if(lista_menor \u003c menor_falta):\n            menor_falta \u003d lista_menor\n        \n    if(jogo[2][0] \u003d\u003d maior_falta):\n        time_maior_falta \u003d jogo[0]\n    elif (jogo[2][1] \u003d\u003d maior_falta):\n        time_maior_falta \u003d jogo[1]\n    \n    if(jogo[2][0] \u003d\u003d menor_falta):\n        time_menor_falta \u003d jogo[0]\n    elif (jogo[2][1] \u003d\u003d menor_falta):\n        time_menor_falta \u003d jogo[1]\n        \nprint(\"O total de faltas foi: {}\".format(total_faltas))\nprint(\"A maior falta foi: {}\".format(maior_falta))\nprint(\"A menor falta: {}\".format(menor_falta))\n\nprint(\"\\nO time com maior faltas foi: {}\".format(time_maior_falta))\nprint(\"O time com menor faltas foi: {}\\n\".format(time_menor_falta))\n\n\n\nd \u003d {}\n\nfor jogo in jogos:\n    d[jogo[0]]\u003d 0\n    d[jogo[1]] \u003d 0\n\nfor jogo in jogos:\n    d[jogo[0]] +\u003d jogo[2][0]\n    d[jogo[1]] +\u003d jogo[2][1]\nprint(d)\n"
    },
    {
      "cell_type": "markdown",
      "metadata": {
        "pycharm": {}
      },
      "source": "5 Escreva um programa que conta a quantidade de vogais em uma string\ne armazena tal quantidade em um dicionário, \nonde a chave é a vogal considerada.\n"
    },
    {
      "cell_type": "code",
      "execution_count": null,
      "metadata": {
        "pycharm": {}
      },
      "outputs": [],
      "source": "dicionario \u003d{\u0027a\u0027:0,\u0027e\u0027:0,\u0027i\u0027:0,\u0027o\u0027:0,\u0027u\u0027:0}\n\nfrase \u003d input(\"Digite uma frase: \").lower()\n\nfor v in frase:\n    if(v \u003d\u003d \u0027a\u0027):\n        dicionario[v] \u003d frase.count(v)\n    elif(v \u003d\u003d \u0027e\u0027):\n        dicionario[v] \u003d frase.count(v)\n    elif(v \u003d\u003d \u0027i\u0027):\n        dicionario[v] \u003d frase.count(v)\n    elif(v \u003d\u003d \u0027o\u0027):\n        dicionario[v] \u003d frase.count(v)\n    elif(v \u003d\u003d \u0027u\u0027):\n        dicionario[v] \u003d frase.count(v)\ndicionario\n"
    },
    {
      "cell_type": "markdown",
      "metadata": {
        "pycharm": {}
      },
      "source": "6 Escreva um programa que lê duas notas de vários alunos e armazena tais notas em um dicionário, onde a chave é o nome do aluno.\nA entrada de dados deve terminar\nquando for lida uma string vazia como nome. Escreva uma função que retorna a\nmédia do aluno, dado seu nome.\n"
    },
    {
      "cell_type": "code",
      "execution_count": null,
      "metadata": {
        "pycharm": {}
      },
      "outputs": [],
      "source": "nome_aluno \u003d input(\"Digite o nome do aluno: \")\nnum1 \u003d int(input(\"Digite a primeira nota do aluno : \"))\nnum2 \u003d int(input(\"Digite a segunda nota do aluno: \"))\ndicionario \u003d {}\nlista \u003d []\nmedia \u003d 0\naux \u003d 0\nwhile(nome_aluno!\u003d\"\"):\n    lista \u003d [num1,num2]\n    \n    dicionario[nome_aluno] \u003d lista\n    \n    nome_aluno \u003d input(\"Digite o nome do aluno: \")\n    \n    if(nome_aluno!\u003d\"\"):\n        num1 \u003d int(input(\"Digite a primeira nota do aluno: \"))\n        num2 \u003d int(input(\"Digite a segunda nota do aluno: \"))\n        dicionario[nome_aluno] \u003d lista\n\n\nfor var in dicionario.keys():\n    for avg in dicionario[var]:\n        aux +\u003d avg\n        media \u003d aux/2\n    aux \u003d 0\n    print(\"{}: {}\".format(var, media))\n    "
    },
    {
      "cell_type": "markdown",
      "metadata": {
        "pycharm": {}
      },
      "source": [
        "7 Uma pista de Kart permite 10 voltas para cada um de 6 corredores. Escreva um\n",
        "programa que leia todos os tempos em segundos e os guarde em um dicionário,\n",
        "onde a chave é o nome do corredor. \n",
        "Ao final diga de quem foi a melhor volta da prova e em que volta; e ainda a classificação final em ordem (1o\n",
        " o campeão). O campeão é o que tem a menor média de tempos."
      ]
    },
    {
      "cell_type": "code",
      "execution_count": null,
      "metadata": {
        "pycharm": {}
      },
      "outputs": [],
      "source": [
        "dicionario \u003d {\"Daniel\":[30,70,80,90,100,90,80,70,60,50],\n",
        "              \"João\":[40,60,50,40,30,20,80,60,90,80],\n",
        "             \"Cleber\":[30,70,70,90,100,80,70,70,60,60],\n",
        "             \"Julho\":[50,70,80,30,100,60,80,60,60,70],\n",
        "             \"Adilson\":[60,40,40,90,60,90,80,50,80,90],\n",
        "             \"Pedro\":[90,70,80,40,50,90,80,70,30,40]}\n",
        "menor_tempo \u003d 100\n",
        "volta \u003d 0\n",
        "qual_volta \u003d 0\n",
        "qual_participante \u003d \"\"\n",
        "lista \u003d []\n",
        "restriter \u003d 0\n",
        "i \u003d 0\n",
        "for cont in range(6):\n",
        "    for var in dicionario.keys():\n",
        "        for tempo in dicionario[var]:\n",
        "            volta +\u003d 1\n",
        "            if(tempo \u003c menor_tempo):\n",
        "                    menor_tempo \u003dtempo\n",
        "                    qual_participante \u003d var\n",
        "                    qual_volta \u003d volta\n",
        "        volta \u003d 0\n",
        "    if(restriter \u003d\u003d 0):\n",
        "        restriter \u003d 1\n",
        "        print(\"O participante com menor tempo é: {}.\\nO menor tempo é: {}, na volta: {}.\".format(qual_participante,menor_tempo,qual_volta))\n",
        "    lista +\u003d [qual_participante]\n",
        "    menor_tempo \u003d 100\n",
        "    del(dicionario[qual_participante])\n",
        "    \n",
        "for var in lista:\n",
        "    i +\u003d 1\n",
        "    print(\"{} {}ª lugar\".format(var,i))\n",
        "    \n"
      ]
    },
    {
      "cell_type": "markdown",
      "metadata": {
        "pycharm": {}
      },
      "source": [
        "8 Escreva um programa para armazenar uma agenda de telefones em um dicionário.\n",
        "Cada pessoa pode ter um ou mais telefones e a chave do dicionário é o nome da pessoa.\n",
        "Seu programa deve ter as seguintes funções: incluirNovoNome – essa função acrescenta um novo nome na agenda, com um ou mais telefones.\n",
        "Ela deve receber como argumentos o nome e os telefones. incluirTelefone – essa função acrescenta um telefone em um nome existente na agenda.\n",
        "Caso o nome não exista na agenda, voc deve perguntar se a pessoa deseja ê̂ duas notas de vários alunos e armazena tais notas em inclui-lo.\n",
        "Caso a resposta seja afirmativa, use a função anterior para incluir o novo nome. excluirTelefone – essa função exclui um telefone de uma pessoa que já está na agenda.\n",
        "Se a pessoa tiver apenas um telefone, ela deve ser excluída da agenda.\n",
        " excluirNome – essa função exclui uma pessoa da agenda. consultarTelefone – essa função retorna os telefones de uma pessoa na agenda"
      ]
    },
    {
      "cell_type": "code",
      "execution_count": null,
      "metadata": {
        "pycharm": {}
      },
      "outputs": [],
      "source": [
        "option \u003d \"add\"\n",
        "add_telefone \u003d 0\n",
        "telefone \u003d 0\n",
        "lista \u003d []\n",
        "dicionario \u003d {}\n",
        "\n",
        "while(option !\u003d \"x\"):\n",
        "    \n",
        "    if(option \u003d\u003d \"add\"):\n",
        "        add_telefone \u003d \"\"\n",
        "        lista \u003d []\n",
        "        nome \u003d input(\"Digite o nome do contato: \")\n",
        "\n",
        "        while(add_telefone !\u003d \"n\"):\n",
        "            telefone \u003d int(input(\"Digite o numero do contato: \"))\n",
        "            add_telefone \u003d input(\"Adicionar mais algum numero?\\n(Digite: N para sair e S para continuar): \").lower()\n",
        "            lista +\u003d [telefone]\n",
        "            dicionario[nome] \u003d lista\n",
        "    if(option \u003d\u003d \"addnum\"):\n",
        "        nome \u003d input(\"Digite o nome do contato: \")\n",
        "        telefone \u003d int(input(\"Digite o numero do contato: \"))\n",
        "        add_telefone \u003d input(\"Adicionar mais algum numero?\\n(Digite: N para sair e S para continuar): \").lower()\n",
        "        lista +\u003d [telefone]\n",
        "        dicionario[nome] \u003d lista\n",
        "        \n",
        "    if(option \u003d\u003d \"excluir\"):\n",
        "        nome \u003d input(\"Digite o nome do contato: \")\n",
        "        del(dicionario[nome])\n",
        "        \n",
        "    if(option \u003d\u003d \"mostrar\"):\n",
        "        print(\"\\nSeus contatos são: \")\n",
        "        for i in dicionario.keys():\n",
        "            print(\"\\nNome: {}\".format(i))\n",
        "            for j in dicionario[i]:\n",
        "                print(\"Numero: {}\".format(j))\n",
        "        \n",
        "    option \u003d input(\"\\nMostrar agenda?\\nDigite \u0027mostrar\u0027\\nAdicionar mais algum contato?\\nDigite: \u0027add\u0027 para continuar\\n\\nDeseja adicionar mais um contato?\\nDigite \u0027addnum\u0027 para continuar\\n\\nDeseja excluir um contato?\\nDigite \u0027excluir\u0027\\n\\nFinalizar o programa?Digite \u0027x\u0027\\n\\nVocê digitou: \").lower()"
      ]
    },
    {
      "cell_type": "code",
      "execution_count": 1,
      "metadata": {
        "pycharm": {}
      },
      "outputs": [
        {
          "name": "stdout",
          "output_type": "stream",
          "text": [
            "Writing ips.txt\n"
          ]
        }
      ],
      "source": [
        "%%writefile ips.txt\n",
        "200.135.80.9\n",
        "192.168.1.1\n",
        "8.35.67.74\n",
        "257.32.4.5\n",
        "85.345.1.2\n",
        "1.2.3.4\n",
        "9.8.234.5\n",
        "192.168.0.256"
      ]
    },
    {
      "cell_type": "markdown",
      "metadata": {
        "pycharm": {}
      },
      "source": [
        "9 Faça um programa que leia um arquivo texto contendo uma lista de endereços IP e\n",
        "gere um outro arquivo, contendo um relatório dos endereços IP válidos e inválidos.\n",
        "O arquivo de entrada possui o seguinte formato:"
      ]
    },
    {
      "cell_type": "code",
      "execution_count": 5,
      "metadata": {
        "pycharm": {}
      },
      "outputs": [],
      "source": [
        "import socket\n",
        "\n",
        "ipsValidos \u003d []\n",
        "ipsInvalidos \u003d []\n",
        "\n",
        "ips \u003d open(\"ips.txt\")\n",
        "for ip in ips:\n",
        "    try:\n",
        "        socket.inet_aton(ip)\n",
        "        # Validos\n",
        "        ipsValidos.append(ip)\n",
        "    except socket.error:\n",
        "        # Invalidos\n",
        "        ipsInvalidos.append(ip)\n",
        "        \n",
        "ips.close()\n",
        "\n",
        "saida \u003d open(\"ipsvalidados.txt\", \"w+\")\n",
        "\n",
        "saida.write(\"[Endereços válidos:]\\n\")\n",
        "for ip in ipsValidos:\n",
        "    saida.write(ip)\n",
        "    \n",
        "saida.write(\"[Endereços inválidos:]\\n\")\n",
        "for ip in ipsInvalidos:\n",
        "    saida.write(ip)\n",
        "    \n",
        "saida.close()"
      ]
    },
    {
      "cell_type": "markdown",
      "metadata": {
        "pycharm": {}
      },
      "source": [
        "10 A ACME Inc., uma empresa de 500 funcionários, está tendo problemas de espaço\n",
        "em disco no seu servidor de arquivos. Para tentar resolver este problema, o\n",
        "Administrador de Rede precisa saber qual o espaço ocupado pelos usuários, e\n",
        "identificar os usuários com maior espaço ocupado. Através de um programa, baixado\n",
        "da Internet, ele conseguiu gerar o seguinte arquivo, chamado \"usuarios.txt\":"
      ]
    },
    {
      "cell_type": "code",
      "execution_count": 6,
      "metadata": {
        "pycharm": {}
      },
      "outputs": [
        {
          "name": "stdout",
          "output_type": "stream",
          "text": [
            "Writing usuarios.txt\n"
          ]
        }
      ],
      "source": [
        "%%writefile usuarios.txt\n",
        "victor 123456789\n",
        "daniel 987654321\n",
        "shalom 123456456\n",
        "samuel 91257581"
      ]
    },
    {
      "cell_type": "code",
      "execution_count": 3,
      "metadata": {
        "pycharm": {
          "is_executing": false
        }
      },
      "outputs": [
        {
          "traceback": [
            "\u001b[1;31m---------------------------------------------------------------------------\u001b[0m",
            "\u001b[1;31mFileNotFoundError\u001b[0m                         Traceback (most recent call last)",
            "\u001b[1;32m\u003cipython-input-3-6c15902f57d5\u003e\u001b[0m in \u001b[0;36m\u003cmodule\u003e\u001b[1;34m\u001b[0m\n\u001b[0;32m      7\u001b[0m \u001b[0mdic\u001b[0m \u001b[1;33m\u003d\u001b[0m \u001b[1;33m{\u001b[0m\u001b[1;33m}\u001b[0m\u001b[1;33m\u001b[0m\u001b[1;33m\u001b[0m\u001b[0m\n\u001b[0;32m      8\u001b[0m \u001b[0mtotal\u001b[0m \u001b[1;33m\u003d\u001b[0m \u001b[1;36m0\u001b[0m\u001b[1;33m\u001b[0m\u001b[1;33m\u001b[0m\u001b[0m\n\u001b[1;32m----\u003e 9\u001b[1;33m \u001b[0musuario\u001b[0m \u001b[1;33m\u003d\u001b[0m \u001b[0mopen\u001b[0m\u001b[1;33m(\u001b[0m\u001b[1;34m\"usuarios.txt\"\u001b[0m\u001b[1;33m)\u001b[0m\u001b[1;33m\u001b[0m\u001b[1;33m\u001b[0m\u001b[0m\n\u001b[0m\u001b[0;32m     10\u001b[0m \u001b[1;32mfor\u001b[0m \u001b[0musuarios\u001b[0m \u001b[1;32min\u001b[0m \u001b[0musuario\u001b[0m\u001b[1;33m:\u001b[0m\u001b[1;33m\u001b[0m\u001b[1;33m\u001b[0m\u001b[0m\n\u001b[0;32m     11\u001b[0m     \u001b[0mnome\u001b[0m\u001b[1;33m,\u001b[0m\u001b[0mmemoria\u001b[0m \u001b[1;33m\u003d\u001b[0m \u001b[0musuarios\u001b[0m\u001b[1;33m.\u001b[0m\u001b[0msplit\u001b[0m\u001b[1;33m(\u001b[0m\u001b[1;34m\" \"\u001b[0m\u001b[1;33m)\u001b[0m\u001b[1;33m\u001b[0m\u001b[1;33m\u001b[0m\u001b[0m\n",
            "\u001b[1;31mFileNotFoundError\u001b[0m: [Errno 2] No such file or directory: \u0027usuarios.txt\u0027"
          ],
          "ename": "FileNotFoundError",
          "evalue": "[Errno 2] No such file or directory: \u0027usuarios.txt\u0027",
          "output_type": "error"
        }
      ],
      "source": [
        "def paraMb(tamanho):\n",
        "    return float(tamanho / (1024*1024))\n",
        "\n",
        "def usoMemoria(tamanho, total):\n",
        "    return float(tamanho / total) * 100\n",
        "\n",
        "dic \u003d {}\n",
        "total \u003d 0 \n",
        "usuario \u003d open(\"usuarios.txt\")\n",
        "for usuarios in usuario:\n",
        "    nome,memoria \u003d usuarios.split(\" \")\n",
        "    dic[nome] \u003d int(memoria)\n",
        "    total +\u003d int(memoria)\n",
        "usuario.close()\n",
        "media \u003dtotal / len(dic.keys())\n",
        "\n",
        "relatorio \u003d open(\"relatorio.txt\",\"w+\")\n",
        "relatorio.write(\"Acme Inc.                              Uso do espaço em disco pelos usuarios.\\n\")\n",
        "relatorio.write(\"------------------------------------------------------------------------------\\n\")\n",
        "relatorio.write(\"\\n.\\tUsuario \\tEspaço utilizado \\t% do uso\\n\")\n",
        "\n",
        "nr \u003d 1\n",
        "\n",
        "for usuario in dic:\n",
        "    relatorio.write(str(nr) + \"\\t\" + usuario + \"\\t\" + \"{0:.2f}\".format(paraMb(dic[usuario])) + \" MB\\t\\t\" + \"{0:.2f}\".format(usoMemoria(dic[usuario], total)) + \"%\\n\")\n",
        "    nr +\u003d 1\n",
        "    \n",
        "relatorio.write(\"Espaço total ocupado \" + \"{0:.2f}\".format(paraMb(total))+\"\\n\")\n",
        "relatorio.write(\"Espaço medio ocupado \" + \"{0:.2f}\".format(paraMb(media)))\n",
        "\n",
        "relatorio.close()"
      ]
    }
  ],
  "metadata": {
    "kernelspec": {
      "display_name": "Python 3",
      "language": "python",
      "name": "python3"
    },
    "language_info": {
      "codemirror_mode": {
        "name": "ipython",
        "version": 3
      },
      "file_extension": ".py",
      "mimetype": "text/x-python",
      "name": "python",
      "nbconvert_exporter": "python",
      "pygments_lexer": "ipython3",
      "version": "3.7.1"
    }
  },
  "nbformat": 4,
  "nbformat_minor": 2
}
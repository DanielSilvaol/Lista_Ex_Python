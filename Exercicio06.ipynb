{
  "cells": [
    {
      "cell_type": "markdown",
      "source": "\n1 Defina a função soma_nat que recebe como argumento um número natural n e devolve a soma de todos os números naturais até n.\n\nEx: soma_nat(5) \u003d 15",
      "metadata": {
        "pycharm": {
          "metadata": false
        }
      }
    },
    {
      "cell_type": "code",
      "execution_count": 35,
      "outputs": [],
      "source": "def soma_nat(n):\n    return n + soma_nat(n - 1) if n \u003e 0 else 0\nassert(soma_nat(3) \u003d\u003d 6)\nassert(soma_nat(5) \u003d\u003d 15)\n",
      "metadata": {
        "pycharm": {
          "metadata": false,
          "name": "#%%\n",
          "is_executing": false
        }
      }
    },
    {
      "cell_type": "markdown",
      "source": "2 Defina a função div que recebe como argumentos dois números naturais m e n e devolve o resultado da divisão inteira de m por n. Neste exercício você não pode recorrer às operações aritméticas de multiplicação, divisão e resto da divisão inteira.",
      "metadata": {
        "pycharm": {
          "metadata": false
        }
      }
    },
    {
      "cell_type": "code",
      "execution_count": 24,
      "outputs": [],
      "source": "def div(m, n):\n    return 1 + div(m - n, n) if m \u003e\u003d n else 0\nassert(div(7,2) \u003d\u003d 3)\n",
      "metadata": {
        "pycharm": {
          "metadata": false,
          "name": "#%%\n",
          "is_executing": false
        }
      }
    },
    {
      "cell_type": "markdown",
      "source": "3 Defina a função prim_alg que recebe como argumento um número natural e\ndevolve o primeiro algarismo (o mais significativo) na representação decimal de n.\nEx: prim_alg(5649) \u003d 5\nEx: prim_alg(7) \u003d 7\n",
      "metadata": {
        "pycharm": {
          "metadata": false,
          "name": "#%% md\n"
        }
      }
    },
    {
      "cell_type": "code",
      "execution_count": 39,
      "outputs": [
        {
          "name": "stdout",
          "text": [
            "5\n7\n"
          ],
          "output_type": "stream"
        }
      ],
      "source": "def prim_alg(n):\n           return print(n[0])\nprim_alg(\"5649\")\nprim_alg(\"7\")\n",
      "metadata": {
        "pycharm": {
          "metadata": false,
          "name": "#%%\n",
          "is_executing": false
        }
      }
    },
    {
      "cell_type": "markdown",
      "source": "4 Defina a função prod_lista que recebe como argumento uma lista de inteiros e devolve o produto dos seus elementos.\n\nEx: prod_lista([1,2,3,4,5,6]) \u003d 720\n",
      "metadata": {
        "pycharm": {
          "metadata": false
        }
      }
    },
    {
      "cell_type": "code",
      "execution_count": 25,
      "outputs": [],
      "source": "def prod_lista(lista):\n    return lista[len(lista) - 1] * prod_lista(lista[:-1]) if len(lista) \u003e 0 else 1\nassert(prod_lista([1,2,3,4,5,6]) \u003d\u003d 720)\nassert(prod_lista([2,2,2]) \u003d\u003d 8)\n",
      "metadata": {
        "pycharm": {
          "metadata": false,
          "name": "#%%\n",
          "is_executing": false
        }
      }
    },
    {
      "cell_type": "markdown",
      "source": "\n5 Defina a função contem_parQ que recebe como argumento uma lista de números inteiros w e devolve True se w contém um número par e False em caso contrário.\n",
      "metadata": {
        "pycharm": {
          "metadata": false
        }
      }
    },
    {
      "cell_type": "code",
      "execution_count": null,
      "outputs": [],
      "source": "def contem_parQ(w):\n    return False if len(w) \u003d\u003d 0 or (w[len(w) - 1] % 2 !\u003d 0 and not contem_parQ(w[:-1])) else True\nassert(contem_parQ([2,3,1,2,3,4]) \u003d\u003d True)\nassert(contem_parQ([1,3,5,7]) \u003d\u003d False)\n",
      "metadata": {
        "pycharm": {
          "metadata": false,
          "name": "#%%\n"
        }
      }
    },
    {
      "cell_type": "markdown",
      "source": "6 Defina a função todos_imparesQ que recebe como argumento uma lista de números inteiros w e devolve True se w contém apenas números ímpares e False em caso contrário.\nEx: todos_imparesQ([1,3,5,7]) \u003d True\nEx: todos_imparesQ([]) \u003d True\nEx: todos_imparesQ([1,2,3,4,5]) \u003d False\n",
      "metadata": {
        "pycharm": {
          "metadata": false,
          "name": "#%% md\n"
        }
      }
    },
    {
      "cell_type": "code",
      "execution_count": null,
      "outputs": [],
      "source": "def todos_imparesQ(w):\n    return True if len(w) \u003d\u003d 0 or (w[len(w) - 1] % 2 !\u003d 0 and todos_imparesQ(w[:-1])) else False\nassert(todos_imparesQ([1,3,5,7]) \u003d\u003d True)\nassert(todos_imparesQ([]) \u003d\u003d True)\nassert(todos_imparesQ([1,2,3,4,5]) \u003d\u003d False)\n",
      "metadata": {
        "pycharm": {
          "metadata": false,
          "name": "#%%\n"
        }
      }
    },
    {
      "cell_type": "markdown",
      "source": "7 Defina a função pertenceQ que recebe como argumentos uma lista de números\ninteiros w e um número inteiro n e devolve True se n ocorre em w e False em\ncaso contrário.\nEx: pertenceQ([1,2,3],1) \u003d True\nEx: pertenceQ([1,2,3],2) \u003d True\nEx: pertenceQ([1,2,3],3) \u003d True\nEx: pertenceQ([1,2,3],4) \u003d False",
      "metadata": {
        "pycharm": {
          "metadata": false
        }
      }
    },
    {
      "cell_type": "code",
      "execution_count": 33,
      "outputs": [
        {
          "name": "stdout",
          "text": [
            "True\nTrue\nTrue\nFalse\n"
          ],
          "output_type": "stream"
        }
      ],
      "source": "def pertenceQ(w,n):\n    return True if len(w) \u003e 0 and (w[len(w)-1]\u003d\u003d n or pertenceQ(w[:-1],n)) else False\n    \nprint(pertenceQ([1,2,3],1))\nprint(pertenceQ([1,2,3],2))\nprint(pertenceQ([1,2,3],3))\nprint(pertenceQ([1,2,3],4))",
      "metadata": {
        "pycharm": {
          "metadata": false,
          "name": "#%%\n",
          "is_executing": false
        }
      }
    },
    {
      "cell_type": "markdown",
      "source": "8 Defina a função junta que recebe como argumentos duas listas de números\ninteiros w1 e w2 e devolve a concatenação de w1 com w2 .\nEx: junta([1,2,3],[4,5,6]) \u003d [1, 2, 3, 4, 5, 6]\nEx: junta([],[4,5,6]) \u003d [4, 5, 6]\nEx: junta([1,2,3],[]) \u003d [1, 2, 3]\n",
      "metadata": {
        "pycharm": {
          "metadata": false
        }
      }
    },
    {
      "cell_type": "code",
      "execution_count": 32,
      "outputs": [
        {
          "name": "stdout",
          "text": [
            "[1, 2, 3, 4, 5, 6]\n[4, 5, 6]\n[1, 2, 3]\n"
          ],
          "output_type": "stream"
        }
      ],
      "source": "def junta(w1,w2):\n    return w1+w2\n\nprint(junta([1,2,3],[4,5,6]))\nprint(junta([],[4,5,6]))\nprint(junta([1,2,3],[]))",
      "metadata": {
        "pycharm": {
          "metadata": false,
          "name": "#%%\n",
          "is_executing": false
        }
      }
    },
    {
      "cell_type": "markdown",
      "source": "9 Defina a função temPrimoQ que recebe como argumento uma lista de listas de\nnúmeros inteiros w e devolve True se alguma das sublistas w tem um número\nprimo e False em caso contrário.\nEx: temPrimoQ([[4,4,4,4],[5,4,6,7],[2,4,3]]) \u003d True\nEx: temPrimoQ([[4,4,4,4],[4,4,4],[],[4]]) \u003d False",
      "metadata": {
        "pycharm": {
          "metadata": false
        }
      }
    },
    {
      "cell_type": "code",
      "execution_count": 34,
      "outputs": [
        {
          "name": "stdout",
          "text": [
            "temPrimo [1] False\ntemPrimo [2] True\ntemPrimo [3] True\ntemPrimo [4] False\ntemPrimoQ [[1]] False\ntemPrimoQ [[2]] True\ntemPrimoQ [[3]] True\ntemPrimoQ [[4]] False\ntemPrimoQ [[4,4,4,4],[5,4,6,7],[2,4,3]] True\ntemPrimoQ [[4,4,4,4],[4,4,4],[],[4]] False\n"
          ],
          "output_type": "stream"
        }
      ],
      "source": "def ehPrimo(p, i \u003d 2):\n    if p \u003d\u003d 1:\n        return False\n    if p \u003d\u003d 2 or i \u003e\u003d p: \n        return True\n    if (p % i) \u003d\u003d 0 and p !\u003d i:\n        return False\n    return ehPrimo(p, i + 1)\n\ndef temPrimo(w):\n    if len(w) \u003d\u003d 0:\n        return False\n    if len(w) \u003d\u003d 1:\n        return ehPrimo(w[0])\n    return ehPrimo(w[0]) or temPrimo(w[1:len(w)])\n\ndef temPrimoQ(w):\n    if len(w) \u003d\u003d 0:\n        return False\n    if len(w) \u003d\u003d 1:\n        return temPrimo(w[0])\n    return temPrimo(w[0]) or temPrimoQ(w[1:len(w)])\n\nprint(\u0027temPrimo\u0027, \u0027[1]\u0027, temPrimo([1]))\nprint(\u0027temPrimo\u0027, \u0027[2]\u0027, temPrimo([2]))\nprint(\u0027temPrimo\u0027, \u0027[3]\u0027, temPrimo([3]))\nprint(\u0027temPrimo\u0027, \u0027[4]\u0027, temPrimo([4]))\nprint(\u0027temPrimoQ\u0027, \u0027[[1]]\u0027, temPrimoQ([[1]]))\nprint(\u0027temPrimoQ\u0027, \u0027[[2]]\u0027, temPrimoQ([[2]]))\nprint(\u0027temPrimoQ\u0027, \u0027[[3]]\u0027, temPrimoQ([[3]]))\nprint(\u0027temPrimoQ\u0027, \u0027[[4]]\u0027, temPrimoQ([[4]]))\nprint(\u0027temPrimoQ\u0027, \u0027[[4,4,4,4],[5,4,6,7],[2,4,3]]\u0027, temPrimoQ([[4,4,4,4],[5,4,6,7],[2,4,3]]))\nprint(\u0027temPrimoQ\u0027, \u0027[[4,4,4,4],[4,4,4],[],[4]]\u0027, temPrimoQ([[4,4,4,4],[4,4,4],[],[4]]))",
      "metadata": {
        "pycharm": {
          "metadata": false,
          "name": "#%%\n",
          "is_executing": false
        }
      }
    },
    {
      "cell_type": "markdown",
      "source": "10 Defina a função inverteLista que recebe como argumento uma lista w e devolve a\nmesma lista mas invertida.\nEx: inverteLista([1,2,3,4,5]) \u003d [5, 4, 3, 2, 1]\nEx: inverteLista([])",
      "metadata": {
        "pycharm": {
          "metadata": false
        }
      }
    },
    {
      "cell_type": "code",
      "execution_count": 31,
      "outputs": [
        {
          "name": "stdout",
          "text": [
            "[5, 4, 3, 2, 1]\n"
          ],
          "output_type": "stream"
        }
      ],
      "source": "inverte \u003d lambda lista: (inverte(lista[1:]) + lista[:1] if lista else [])\nprint(inverte([1,2,3,4,5]))\nprint(inverte([]))\n",
      "metadata": {
        "pycharm": {
          "metadata": false,
          "name": "#%%\n",
          "is_executing": false
        }
      }
    }
  ],
  "metadata": {
    "language_info": {
      "codemirror_mode": {
        "name": "ipython",
        "version": 2
      },
      "file_extension": ".py",
      "mimetype": "text/x-python",
      "name": "python",
      "nbconvert_exporter": "python",
      "pygments_lexer": "ipython2",
      "version": "2.7.6"
    },
    "kernelspec": {
      "name": "python3",
      "language": "python",
      "display_name": "Python 3"
    },
    "stem_cell": {
      "cell_type": "raw",
      "source": "",
      "metadata": {
        "pycharm": {
          "metadata": false
        }
      }
    }
  },
  "nbformat": 4,
  "nbformat_minor": 0
}
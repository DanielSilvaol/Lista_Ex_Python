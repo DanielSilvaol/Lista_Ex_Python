{
  "cells": [
    {
      "cell_type": "markdown",
      "metadata": {
        "collapsed": true,
        "pycharm": {
          "name": "#%% md\n"
        }
      },
      "source": "\n1 Defina a função soma_nat que recebe como argumento um número natural n e devolve a soma de todos os números naturais até n.\n"
    },
    {
      "cell_type": "code",
      "execution_count": 3,
      "outputs": [
        {
          "name": "stdout",
          "text": [
            "15\n"
          ],
          "output_type": "stream"
        }
      ],
      "source": "\nl_soma \u003d lambda n: 1 if n \u003d\u003d 1 else n + l_soma(n - 1)\nprint(l_soma(5))\n",
      "metadata": {
        "pycharm": {
          "metadata": false,
          "name": "#%%\n",
          "is_executing": false
        }
      }
    },
    {
      "cell_type": "markdown",
      "source": "\n2 Defina a função div que recebe como argumentos dois números naturais m e n e devolve o resultado da divisão inteira de m por n. Neste exercício você não pode recorrer às operações aritméticas de multiplicação, divisão e resto da divisão inteira.\"\n",
      "metadata": {
        "pycharm": {
          "metadata": false,
          "name": "#%% md\n"
        }
      }
    },
    {
      "cell_type": "code",
      "execution_count": 1,
      "outputs": [
        {
          "name": "stdout",
          "text": [
            "3\n"
          ],
          "output_type": "stream"
        }
      ],
      "source": "\nl_div \u003d lambda m,n: 0 if m \u003c n else 1 + l_div(m-n,n)\nprint(l_div(7,2))\n",
      "metadata": {
        "pycharm": {
          "metadata": false,
          "name": "#%%\n",
          "is_executing": false
        }
      }
    },
    {
      "cell_type": "markdown",
      "source": "\n3 Defina a função prim_alg que recebe como argumento um número natural e devolve o primeiro algarismo (o mais significativo) na representação decimal de n.\n",
      "metadata": {
        "pycharm": {
          "metadata": false,
          "name": "#%% md\n"
        }
      }
    },
    {
      "cell_type": "code",
      "execution_count": 5,
      "outputs": [
        {
          "name": "stdout",
          "text": [
            "5\n"
          ],
          "output_type": "stream"
        }
      ],
      "source": "prim_alg \u003d lambda n: n[0]\nprint (prim_alg(\"5649\"))\n",
      "metadata": {
        "pycharm": {
          "metadata": false,
          "name": "#%%\n",
          "is_executing": false
        }
      }
    },
    {
      "cell_type": "markdown",
      "source": "4 Defina a função prod_lista que recebe como argumento uma lista de inteiros e devolve o produto dos seus elementos.",
      "metadata": {
        "pycharm": {
          "metadata": false,
          "name": "#%% md\n"
        }
      }
    },
    {
      "cell_type": "code",
      "execution_count": 7,
      "outputs": [
        {
          "name": "stdout",
          "text": [
            "720\n"
          ],
          "output_type": "stream"
        }
      ],
      "source": "prod_lista \u003d lambda lista: lista[len(lista) - 1] * prod_lista(lista[:-1]) if len(lista) \u003e 0 else 1\nprint(prod_lista([1,2,3,4,5,6]))\n",
      "metadata": {
        "pycharm": {
          "metadata": false,
          "name": "#%%\n",
          "is_executing": false
        }
      }
    },
    {
      "cell_type": "markdown",
      "source": "5 Defina a função contem_parQ que recebe como argumento uma lista de números inteiros w e devolve True se w contém um número par e False em caso contrário.",
      "metadata": {
        "pycharm": {
          "metadata": false
        }
      }
    },
    {
      "cell_type": "code",
      "execution_count": 8,
      "outputs": [
        {
          "name": "stdout",
          "text": [
            "True\nFalse\n"
          ],
          "output_type": "stream"
        },
        {
          "data": {
            "text/plain": "False"
          },
          "metadata": {},
          "output_type": "execute_result",
          "execution_count": 8
        }
      ],
      "source": "l_contem_parQ \u003d lambda w: False if len(w) \u003d\u003d 0 else True if w.pop()%2 \u003d\u003d 0 else l_contem_parQ(w)\nprint(l_contem_parQ([2,3,1,2,3,4]))\nprint(l_contem_parQ([1,3,5,7]))\nTrue\nFalse\n",
      "metadata": {
        "pycharm": {
          "metadata": false,
          "name": "#%%\n",
          "is_executing": false
        }
      }
    },
    {
      "cell_type": "markdown",
      "source": "\n6 Defina a função todos_imparesQ que recebe como argumento uma lista de números inteiros w e devolve True se w contém apenas números ímpares e False em caso contrário.",
      "metadata": {
        "pycharm": {
          "metadata": false,
          "name": "#%% md\n"
        }
      }
    },
    {
      "cell_type": "code",
      "execution_count": 3,
      "outputs": [
        {
          "name": "stdout",
          "text": [
            "False\nTrue\nFalse\nTrue\n"
          ],
          "output_type": "stream"
        }
      ],
      "source": "l_todos_imparesQ \u003d lambda w: True if w\u003d\u003d[] or len(w)\u003d\u003d1 else (False if w[len(w)-1]%2\u003d\u003d0 else (w.pop(len(w)-1) and False) or (l_todos_imparesQ(w) and True))  \n\n\nprint(l_todos_imparesQ([1,5,9,2]))\nprint(l_todos_imparesQ([]))     \nprint(l_todos_imparesQ([1,2,3,4,5]))\nprint(l_todos_imparesQ([1,3,5,7]))\n",
      "metadata": {
        "pycharm": {
          "metadata": false,
          "name": "#%%\n",
          "is_executing": false
        }
      }
    },
    {
      "cell_type": "markdown",
      "source": "7 Defina a função pertenceQ que recebe como argumentos uma lista de números inteiros w e um número inteiro n e devolve True se n ocorre em w e False em caso contrário.",
      "metadata": {
        "pycharm": {
          "metadata": false
        }
      }
    },
    {
      "cell_type": "code",
      "execution_count": null,
      "outputs": [],
      "source": "pertenceQ \u003d lambda w, n: n in w   \nprint(pertenceQ([1,2,3],1))\nprint(pertenceQ([1,2,3],2))\nprint(pertenceQ([1,2,3],3))\nprint(pertenceQ([1,2,3],4))\nassert(pertenceQ([1,2,3],1)\u003d\u003d True)\nassert(pertenceQ([1,2,3],2)\u003d\u003d True)\nassert(pertenceQ([1,2,3],3)\u003d\u003d True)\nassert(pertenceQ([1,2,3],4)\u003d\u003d False)\n",
      "metadata": {
        "pycharm": {
          "metadata": false,
          "name": "#%%\n"
        }
      }
    },
    {
      "cell_type": "markdown",
      "source": "8 Defina a função junta que recebe como argumentos duas listas de números inteiros w1 e w2 e devolve a concatenação de w1 com w2",
      "metadata": {
        "pycharm": {
          "metadata": false
        }
      }
    },
    {
      "cell_type": "code",
      "execution_count": null,
      "outputs": [],
      "source": "junta \u003d lambda w1, w2: w1 + w2\n\nprint(junta([1,2,3],[4,5,6]))\nprint(junta([],[4,5,6]))\nprint(junta([1,2,3],[]))\nassert(junta([1,2,3],[4,5,6])\u003d\u003d [1, 2, 3, 4, 5, 6])\nassert(junta([],[4,5,6])\u003d\u003d [4, 5, 6])\nassert(junta([1,2,3],[])\u003d\u003d [1, 2, 3])",
      "metadata": {
        "pycharm": {
          "metadata": false,
          "name": "#%%\n"
        }
      }
    },
    {
      "cell_type": "markdown",
      "source": "9 Defina a função temPrimoQ que recebe como argumento uma lista de listas de números inteiros w e devolve True se alguma das sublistas w tem um número primo e False em caso contrário.",
      "metadata": {
        "pycharm": {
          "metadata": false
        }
      }
    },
    {
      "cell_type": "code",
      "execution_count": null,
      "outputs": [],
      "source": "temPrimoQ \u003d lambda w: bool([1 for x in w for n in x if \n                            (n % 2 !\u003d 0 and n % 3 !\u003d 0 and n % 5 !\u003d 0 and n % 7 !\u003d 0 and n % 11 !\u003d 0) or n in [2,3,5,7,11]])\n\nprint(temPrimoQ([[4,4,4,4],[5,4,6,7],[2,4,3]]))\nprint(temPrimoQ([[4,4,4,4],[4,4,4],[],[4]]))\nassert(temPrimoQ([[4,4,4,4],[5,4,6,7],[2,4,3]])\u003d\u003d True)\nassert(temPrimoQ([[4,4,4,4],[4,4,4],[],[4]])\u003d\u003dFalse)",
      "metadata": {
        "pycharm": {
          "metadata": false,
          "name": "#%%\n"
        }
      }
    },
    {
      "cell_type": "markdown",
      "source": "10 Defina a função inverteLista que recebe como argumento uma lista w e devolve a\nmesma lista mas invertida.\nEx: inverteLista([1,2,3,4,5]) \u003d [5, 4, 3, 2, 1]\nEx: inverteLista([])",
      "metadata": {
        "pycharm": {
          "metadata": false
        }
      }
    },
    {
      "cell_type": "code",
      "execution_count": null,
      "outputs": [],
      "source": "inverte \u003d lambda lista: (inverte(lista[1:]) + lista[:1] if lista else [])\nprint(inverte([1,2,3,4,5]))\nprint(inverte([]))\n\n",
      "metadata": {
        "pycharm": {
          "metadata": false,
          "name": "#%%\n"
        }
      }
    }
  ],
  "metadata": {
    "language_info": {
      "codemirror_mode": {
        "name": "ipython",
        "version": 2
      },
      "file_extension": ".py",
      "mimetype": "text/x-python",
      "name": "python",
      "nbconvert_exporter": "python",
      "pygments_lexer": "ipython2",
      "version": "2.7.6"
    },
    "kernelspec": {
      "name": "python3",
      "language": "python",
      "display_name": "Python 3"
    }
  },
  "nbformat": 4,
  "nbformat_minor": 0
}